{
  "nbformat": 4,
  "nbformat_minor": 0,
  "metadata": {
    "colab": {
      "name": "pyvis_sample.ipynb",
      "provenance": [],
      "collapsed_sections": [],
      "authorship_tag": "ABX9TyMP6x0wOa8gCIQckzPCu/bj",
      "include_colab_link": true
    },
    "kernelspec": {
      "name": "python3",
      "display_name": "Python 3"
    }
  },
  "cells": [
    {
      "cell_type": "markdown",
      "metadata": {
        "id": "view-in-github",
        "colab_type": "text"
      },
      "source": [
        "<a href=\"https://colab.research.google.com/github/napoles-uach/streamlit_network/blob/main/pyvis_sample.ipynb\" target=\"_parent\"><img src=\"https://colab.research.google.com/assets/colab-badge.svg\" alt=\"Open In Colab\"/></a>"
      ]
    },
    {
      "cell_type": "code",
      "metadata": {
        "id": "kgT16pbTL8lT"
      },
      "source": [
        "!pip install pyvis"
      ],
      "execution_count": null,
      "outputs": []
    },
    {
      "cell_type": "code",
      "metadata": {
        "colab": {
          "base_uri": "https://localhost:8080/",
          "height": 438
        },
        "id": "sZhHSrb5L_qk",
        "outputId": "d9444d1f-3a58-43b9-b760-043b465a50ed"
      },
      "source": [
        "from pyvis import network as net\n",
        "g=net.Network(height='400px', width='50%',heading='')\n",
        "g.add_node(1)\n",
        "g.add_node(2)\n",
        "g.add_node(3)\n",
        "g.add_edge(1,2)\n",
        "g.add_edge(2,3)\n",
        "g.show('example.html')\n",
        "from IPython.core.display import display, HTML\n",
        "display(HTML('example.html'))"
      ],
      "execution_count": null,
      "outputs": [
        {
          "output_type": "display_data",
          "data": {
            "text/html": [
              "<html>\n",
              "<head>\n",
              "<link rel=\"stylesheet\" href=\"https://cdnjs.cloudflare.com/ajax/libs/vis/4.16.1/vis.css\" type=\"text/css\" />\n",
              "<script type=\"text/javascript\" src=\"https://cdnjs.cloudflare.com/ajax/libs/vis/4.16.1/vis-network.min.js\"> </script>\n",
              "<center>\n",
              "<h1></h1>\n",
              "</center>\n",
              "\n",
              "<!-- <link rel=\"stylesheet\" href=\"../node_modules/vis/dist/vis.min.css\" type=\"text/css\" />\n",
              "<script type=\"text/javascript\" src=\"../node_modules/vis/dist/vis.js\"> </script>-->\n",
              "\n",
              "<style type=\"text/css\">\n",
              "\n",
              "        #mynetwork {\n",
              "            width: 50%;\n",
              "            height: 400px;\n",
              "            background-color: #ffffff;\n",
              "            border: 1px solid lightgray;\n",
              "            position: relative;\n",
              "            float: left;\n",
              "        }\n",
              "\n",
              "        \n",
              "\n",
              "        \n",
              "\n",
              "        \n",
              "</style>\n",
              "\n",
              "</head>\n",
              "\n",
              "<body>\n",
              "<div id = \"mynetwork\"></div>\n",
              "\n",
              "\n",
              "<script type=\"text/javascript\">\n",
              "\n",
              "    // initialize global variables.\n",
              "    var edges;\n",
              "    var nodes;\n",
              "    var network; \n",
              "    var container;\n",
              "    var options, data;\n",
              "\n",
              "    \n",
              "    // This method is responsible for drawing the graph, returns the drawn network\n",
              "    function drawGraph() {\n",
              "        var container = document.getElementById('mynetwork');\n",
              "        \n",
              "        \n",
              "\n",
              "        // parsing and collecting nodes and edges from the python\n",
              "        nodes = new vis.DataSet([{\"id\": 1, \"label\": 1, \"shape\": \"dot\"}, {\"id\": 2, \"label\": 2, \"shape\": \"dot\"}, {\"id\": 3, \"label\": 3, \"shape\": \"dot\"}]);\n",
              "        edges = new vis.DataSet([{\"from\": 1, \"to\": 2}, {\"from\": 2, \"to\": 3}]);\n",
              "\n",
              "        // adding nodes and edges to the graph\n",
              "        data = {nodes: nodes, edges: edges};\n",
              "\n",
              "        var options = {\n",
              "    \"configure\": {\n",
              "        \"enabled\": false\n",
              "    },\n",
              "    \"edges\": {\n",
              "        \"color\": {\n",
              "            \"inherit\": true\n",
              "        },\n",
              "        \"smooth\": {\n",
              "            \"enabled\": false,\n",
              "            \"type\": \"continuous\"\n",
              "        }\n",
              "    },\n",
              "    \"interaction\": {\n",
              "        \"dragNodes\": true,\n",
              "        \"hideEdgesOnDrag\": false,\n",
              "        \"hideNodesOnDrag\": false\n",
              "    },\n",
              "    \"physics\": {\n",
              "        \"enabled\": true,\n",
              "        \"stabilization\": {\n",
              "            \"enabled\": true,\n",
              "            \"fit\": true,\n",
              "            \"iterations\": 1000,\n",
              "            \"onlyDynamicEdges\": false,\n",
              "            \"updateInterval\": 50\n",
              "        }\n",
              "    }\n",
              "};\n",
              "        \n",
              "        \n",
              "\n",
              "        \n",
              "\n",
              "        network = new vis.Network(container, data, options);\n",
              "\n",
              "        \n",
              "\n",
              "\n",
              "        \n",
              "\n",
              "        return network;\n",
              "\n",
              "    }\n",
              "\n",
              "    drawGraph();\n",
              "\n",
              "</script>\n",
              "</body>\n",
              "</html>"
            ],
            "text/plain": [
              "<IPython.core.display.HTML object>"
            ]
          },
          "metadata": {
            "tags": []
          }
        }
      ]
    },
    {
      "cell_type": "code",
      "metadata": {
        "id": "J8aJu4g3Nf8o"
      },
      "source": [
        "g2=net.Network(height='400px', width='80%',heading='')"
      ],
      "execution_count": null,
      "outputs": []
    },
    {
      "cell_type": "code",
      "metadata": {
        "id": "c2u_9V-qMLnM"
      },
      "source": [
        "g2.add_nodes([1,2,3], value=[10, 100, 400], title=[\"I am node 1\", \"node 2 here\", \"and im node 3\"], x=[0, 50, 100], y=[100, 50, 50], label=[\"NODE 1\", \"NODE 2\", \"NODE 3\"], color=[\"#00ff1e\", \"#162347\", \"#dd4b39\"])\n"
      ],
      "execution_count": null,
      "outputs": []
    },
    {
      "cell_type": "code",
      "metadata": {
        "id": "lXV8O5GDsxcc"
      },
      "source": [
        "g2.add_edges([[1,2],[2,3],[1,3]])"
      ],
      "execution_count": null,
      "outputs": []
    },
    {
      "cell_type": "code",
      "metadata": {
        "id": "iYaUxbzLuSeH"
      },
      "source": [
        "g2.add_node(4,x=0,y=00,physics=False)\n",
        "g2.add_node(5,x=100,y=100,physics=False)"
      ],
      "execution_count": null,
      "outputs": []
    },
    {
      "cell_type": "code",
      "metadata": {
        "id": "2JeMRhYbNrb5"
      },
      "source": [
        "def show_graph(net,name):\n",
        "  net.show(name)\n",
        "  display(HTML(name))"
      ],
      "execution_count": null,
      "outputs": []
    },
    {
      "cell_type": "code",
      "metadata": {
        "colab": {
          "base_uri": "https://localhost:8080/",
          "height": 438
        },
        "id": "aRrNFZBYN7yM",
        "outputId": "ed981f84-d3b9-4246-8a93-8be3741e5309"
      },
      "source": [
        "show_graph(g2,'g2.html')"
      ],
      "execution_count": null,
      "outputs": [
        {
          "output_type": "display_data",
          "data": {
            "text/html": [
              "<html>\n",
              "<head>\n",
              "<link rel=\"stylesheet\" href=\"https://cdnjs.cloudflare.com/ajax/libs/vis/4.16.1/vis.css\" type=\"text/css\" />\n",
              "<script type=\"text/javascript\" src=\"https://cdnjs.cloudflare.com/ajax/libs/vis/4.16.1/vis-network.min.js\"> </script>\n",
              "<center>\n",
              "<h1></h1>\n",
              "</center>\n",
              "\n",
              "<!-- <link rel=\"stylesheet\" href=\"../node_modules/vis/dist/vis.min.css\" type=\"text/css\" />\n",
              "<script type=\"text/javascript\" src=\"../node_modules/vis/dist/vis.js\"> </script>-->\n",
              "\n",
              "<style type=\"text/css\">\n",
              "\n",
              "        #mynetwork {\n",
              "            width: 80%;\n",
              "            height: 400px;\n",
              "            background-color: #ffffff;\n",
              "            border: 1px solid lightgray;\n",
              "            position: relative;\n",
              "            float: left;\n",
              "        }\n",
              "\n",
              "        \n",
              "\n",
              "        \n",
              "\n",
              "        \n",
              "</style>\n",
              "\n",
              "</head>\n",
              "\n",
              "<body>\n",
              "<div id = \"mynetwork\"></div>\n",
              "\n",
              "\n",
              "<script type=\"text/javascript\">\n",
              "\n",
              "    // initialize global variables.\n",
              "    var edges;\n",
              "    var nodes;\n",
              "    var network; \n",
              "    var container;\n",
              "    var options, data;\n",
              "\n",
              "    \n",
              "    // This method is responsible for drawing the graph, returns the drawn network\n",
              "    function drawGraph() {\n",
              "        var container = document.getElementById('mynetwork');\n",
              "        \n",
              "        \n",
              "\n",
              "        // parsing and collecting nodes and edges from the python\n",
              "        nodes = new vis.DataSet([{\"id\": 4, \"label\": 4, \"physics\": false, \"shape\": \"dot\", \"x\": 0, \"y\": 0}, {\"id\": 5, \"label\": 5, \"physics\": false, \"shape\": \"dot\", \"x\": 100, \"y\": 100}]);\n",
              "        edges = new vis.DataSet([]);\n",
              "\n",
              "        // adding nodes and edges to the graph\n",
              "        data = {nodes: nodes, edges: edges};\n",
              "\n",
              "        var options = {\n",
              "    \"configure\": {\n",
              "        \"enabled\": false\n",
              "    },\n",
              "    \"edges\": {\n",
              "        \"color\": {\n",
              "            \"inherit\": true\n",
              "        },\n",
              "        \"smooth\": {\n",
              "            \"enabled\": false,\n",
              "            \"type\": \"continuous\"\n",
              "        }\n",
              "    },\n",
              "    \"interaction\": {\n",
              "        \"dragNodes\": true,\n",
              "        \"hideEdgesOnDrag\": false,\n",
              "        \"hideNodesOnDrag\": false\n",
              "    },\n",
              "    \"physics\": {\n",
              "        \"enabled\": true,\n",
              "        \"stabilization\": {\n",
              "            \"enabled\": true,\n",
              "            \"fit\": true,\n",
              "            \"iterations\": 1000,\n",
              "            \"onlyDynamicEdges\": false,\n",
              "            \"updateInterval\": 50\n",
              "        }\n",
              "    }\n",
              "};\n",
              "        \n",
              "        \n",
              "\n",
              "        \n",
              "\n",
              "        network = new vis.Network(container, data, options);\n",
              "\n",
              "        \n",
              "\n",
              "\n",
              "        \n",
              "\n",
              "        return network;\n",
              "\n",
              "    }\n",
              "\n",
              "    drawGraph();\n",
              "\n",
              "</script>\n",
              "</body>\n",
              "</html>"
            ],
            "text/plain": [
              "<IPython.core.display.HTML object>"
            ]
          },
          "metadata": {
            "tags": []
          }
        }
      ]
    },
    {
      "cell_type": "code",
      "metadata": {
        "id": "GqCcuSZVOM2-"
      },
      "source": [
        "ids=['C', 'N', 'C', 'N', 'C', 'C', 'C', 'O', 'N', 'C', 'O', 'N', 'C', 'C']\n"
      ],
      "execution_count": null,
      "outputs": []
    },
    {
      "cell_type": "code",
      "metadata": {
        "id": "8DRMBSK_RGLz"
      },
      "source": [
        "xs=[2.776, 1.276, 0.3943, -1.0323, -1.0323, 0.3943, 0.7062, 2.1328, -0.4086, -1.8351, -2.9499, -2.147, -3.5736, -0.0967]\n"
      ],
      "execution_count": null,
      "outputs": []
    },
    {
      "cell_type": "code",
      "metadata": {
        "id": "CvXnVd5DRKaK"
      },
      "source": [
        "ys=[0.0, 0.0, 1.2135, 0.75, -0.75, -1.2135, -2.6807, -3.1443, -3.6844, -3.2209, -4.2246, -1.7537, -1.2902, -5.1517]\n"
      ],
      "execution_count": null,
      "outputs": []
    },
    {
      "cell_type": "code",
      "metadata": {
        "id": "AYTBJqaxR9_Q"
      },
      "source": [
        "bonds=[[0, 1], [1, 2], [2, 3], [3, 4], [4, 5], [5, 6], [6, 7], [6, 8], [8, 9], [9, 10], [9, 11], [11, 12], [8, 13], [5, 1], [11, 4]]\n"
      ],
      "execution_count": null,
      "outputs": []
    },
    {
      "cell_type": "code",
      "metadata": {
        "id": "vC6W5l4fRoLP"
      },
      "source": [
        "g3=net.Network(height='400px', width='80%',heading='')"
      ],
      "execution_count": null,
      "outputs": []
    },
    {
      "cell_type": "code",
      "metadata": {
        "id": "HzMiXUyPSpNI"
      },
      "source": [
        "g3.set_options('''\n",
        "var options = {\n",
        "    \"nodes\": {\n",
        "    \"borderWidth\": 2,\n",
        "    \"borderWidthSelected\": 4\n",
        "  },\n",
        "  \"edges\":{\n",
        "    \"width\":24\n",
        "  },\n",
        "  \"physics\": {\n",
        "    \"barnesHut\": {\n",
        "      \"gravitationalConstant\":-2000,\n",
        "      \"centralGravity\": 0,\n",
        "      \"springLength\": 60,\n",
        "      \"springConstant\": 0.545,\n",
        "      \"damping\": 0.1,\n",
        "      \"avoidOverlap\": 0.52\n",
        "    },\n",
        "    \"maxVelocity:\":50,\n",
        "    \"minVelocity\": 0.75,\n",
        "    \"timestep\": 0.5\n",
        "  }\n",
        "}\n",
        "''')"
      ],
      "execution_count": null,
      "outputs": []
    },
    {
      "cell_type": "code",
      "metadata": {
        "id": "aVnFu9mEROur"
      },
      "source": [
        "for atomo in range(14): \n",
        "  g3.add_node(atomo,label=ids[atomo],x=int(100*xs[atomo]),y=int(100*ys[atomo]),physics=True,size=30)"
      ],
      "execution_count": null,
      "outputs": []
    },
    {
      "cell_type": "code",
      "metadata": {
        "id": "gf3SoMlqRiRV"
      },
      "source": [
        "g3.add_edges(bonds)"
      ],
      "execution_count": null,
      "outputs": []
    },
    {
      "cell_type": "code",
      "metadata": {
        "colab": {
          "base_uri": "https://localhost:8080/",
          "height": 438
        },
        "id": "F2t9G9JRSCBa",
        "outputId": "8a7d626b-5258-4fc3-8f8a-f5b38057a313"
      },
      "source": [
        "show_graph(g3,'g3.html')"
      ],
      "execution_count": null,
      "outputs": [
        {
          "output_type": "display_data",
          "data": {
            "text/html": [
              "<html>\n",
              "<head>\n",
              "<link rel=\"stylesheet\" href=\"https://cdnjs.cloudflare.com/ajax/libs/vis/4.16.1/vis.css\" type=\"text/css\" />\n",
              "<script type=\"text/javascript\" src=\"https://cdnjs.cloudflare.com/ajax/libs/vis/4.16.1/vis-network.min.js\"> </script>\n",
              "<center>\n",
              "<h1></h1>\n",
              "</center>\n",
              "\n",
              "<!-- <link rel=\"stylesheet\" href=\"../node_modules/vis/dist/vis.min.css\" type=\"text/css\" />\n",
              "<script type=\"text/javascript\" src=\"../node_modules/vis/dist/vis.js\"> </script>-->\n",
              "\n",
              "<style type=\"text/css\">\n",
              "\n",
              "        #mynetwork {\n",
              "            width: 80%;\n",
              "            height: 400px;\n",
              "            background-color: #ffffff;\n",
              "            border: 1px solid lightgray;\n",
              "            position: relative;\n",
              "            float: left;\n",
              "        }\n",
              "\n",
              "        \n",
              "\n",
              "        \n",
              "\n",
              "        \n",
              "</style>\n",
              "\n",
              "</head>\n",
              "\n",
              "<body>\n",
              "<div id = \"mynetwork\"></div>\n",
              "\n",
              "\n",
              "<script type=\"text/javascript\">\n",
              "\n",
              "    // initialize global variables.\n",
              "    var edges;\n",
              "    var nodes;\n",
              "    var network; \n",
              "    var container;\n",
              "    var options, data;\n",
              "\n",
              "    \n",
              "    // This method is responsible for drawing the graph, returns the drawn network\n",
              "    function drawGraph() {\n",
              "        var container = document.getElementById('mynetwork');\n",
              "        \n",
              "        \n",
              "\n",
              "        // parsing and collecting nodes and edges from the python\n",
              "        nodes = new vis.DataSet([{\"id\": 0, \"label\": \"C\", \"physics\": true, \"shape\": \"dot\", \"size\": 30, \"x\": 277, \"y\": 0}, {\"id\": 1, \"label\": \"N\", \"physics\": true, \"shape\": \"dot\", \"size\": 30, \"x\": 127, \"y\": 0}, {\"id\": 2, \"label\": \"C\", \"physics\": true, \"shape\": \"dot\", \"size\": 30, \"x\": 39, \"y\": 121}, {\"id\": 3, \"label\": \"N\", \"physics\": true, \"shape\": \"dot\", \"size\": 30, \"x\": -103, \"y\": 75}, {\"id\": 4, \"label\": \"C\", \"physics\": true, \"shape\": \"dot\", \"size\": 30, \"x\": -103, \"y\": -75}, {\"id\": 5, \"label\": \"C\", \"physics\": true, \"shape\": \"dot\", \"size\": 30, \"x\": 39, \"y\": -121}, {\"id\": 6, \"label\": \"C\", \"physics\": true, \"shape\": \"dot\", \"size\": 30, \"x\": 70, \"y\": -268}, {\"id\": 7, \"label\": \"O\", \"physics\": true, \"shape\": \"dot\", \"size\": 30, \"x\": 213, \"y\": -314}, {\"id\": 8, \"label\": \"N\", \"physics\": true, \"shape\": \"dot\", \"size\": 30, \"x\": -40, \"y\": -368}, {\"id\": 9, \"label\": \"C\", \"physics\": true, \"shape\": \"dot\", \"size\": 30, \"x\": -183, \"y\": -322}, {\"id\": 10, \"label\": \"O\", \"physics\": true, \"shape\": \"dot\", \"size\": 30, \"x\": -294, \"y\": -422}, {\"id\": 11, \"label\": \"N\", \"physics\": true, \"shape\": \"dot\", \"size\": 30, \"x\": -214, \"y\": -175}, {\"id\": 12, \"label\": \"C\", \"physics\": true, \"shape\": \"dot\", \"size\": 30, \"x\": -357, \"y\": -129}, {\"id\": 13, \"label\": \"C\", \"physics\": true, \"shape\": \"dot\", \"size\": 30, \"x\": -9, \"y\": -515}]);\n",
              "        edges = new vis.DataSet([{\"from\": 0, \"to\": 1}, {\"from\": 1, \"to\": 2}, {\"from\": 2, \"to\": 3}, {\"from\": 3, \"to\": 4}, {\"from\": 4, \"to\": 5}, {\"from\": 5, \"to\": 6}, {\"from\": 6, \"to\": 7}, {\"from\": 6, \"to\": 8}, {\"from\": 8, \"to\": 9}, {\"from\": 9, \"to\": 10}, {\"from\": 9, \"to\": 11}, {\"from\": 11, \"to\": 12}, {\"from\": 8, \"to\": 13}, {\"from\": 5, \"to\": 1}, {\"from\": 11, \"to\": 4}]);\n",
              "\n",
              "        // adding nodes and edges to the graph\n",
              "        data = {nodes: nodes, edges: edges};\n",
              "\n",
              "        var options = {\"nodes\": {\"borderWidth\": 2, \"borderWidthSelected\": 4}, \"edges\": {\"width\": 24}, \"physics\": {\"barnesHut\": {\"gravitationalConstant\": -2000, \"centralGravity\": 0, \"springLength\": 60, \"springConstant\": 0.545, \"damping\": 0.1, \"avoidOverlap\": 0.52}, \"maxVelocity:\": 50, \"minVelocity\": 0.75, \"timestep\": 0.5}};\n",
              "        \n",
              "        \n",
              "\n",
              "        \n",
              "\n",
              "        network = new vis.Network(container, data, options);\n",
              "\n",
              "        \n",
              "\n",
              "\n",
              "        \n",
              "\n",
              "        return network;\n",
              "\n",
              "    }\n",
              "\n",
              "    drawGraph();\n",
              "\n",
              "</script>\n",
              "</body>\n",
              "</html>"
            ],
            "text/plain": [
              "<IPython.core.display.HTML object>"
            ]
          },
          "metadata": {
            "tags": []
          }
        }
      ]
    },
    {
      "cell_type": "code",
      "metadata": {
        "colab": {
          "base_uri": "https://localhost:8080/",
          "height": 695
        },
        "id": "5IVIOwHvSTX7",
        "outputId": "c5e8bc1e-00bb-4a0b-d9af-2c21f61ebfa2"
      },
      "source": [
        "import networkx as nx\n",
        "G = nx.karate_club_graph()\n",
        "\n",
        "\n",
        "g4 = Network(height='400px', width='50%',notebook=True,heading='Zachary’s Karate Club graph')\n",
        "g4.from_nx(G)\n",
        "\n",
        "g4.show_buttons(filter_=['physics'])\n",
        "g4.show('karate.html')\n",
        "display(HTML('karate.html'))"
      ],
      "execution_count": null,
      "outputs": [
        {
          "output_type": "display_data",
          "data": {
            "text/html": [
              "<html>\n",
              "<head>\n",
              "<link rel=\"stylesheet\" href=\"https://cdnjs.cloudflare.com/ajax/libs/vis/4.16.1/vis.css\" type=\"text/css\" />\n",
              "<script type=\"text/javascript\" src=\"https://cdnjs.cloudflare.com/ajax/libs/vis/4.16.1/vis-network.min.js\"> </script>\n",
              "<center>\n",
              "<h1>Zachary’s Karate Club graph</h1>\n",
              "</center>\n",
              "\n",
              "<!-- <link rel=\"stylesheet\" href=\"../node_modules/vis/dist/vis.min.css\" type=\"text/css\" />\n",
              "<script type=\"text/javascript\" src=\"../node_modules/vis/dist/vis.js\"> </script>-->\n",
              "\n",
              "<style type=\"text/css\">\n",
              "\n",
              "        #mynetwork {\n",
              "            width: 50%;\n",
              "            height: 400px;\n",
              "            background-color: #ffffff;\n",
              "            border: 1px solid lightgray;\n",
              "            position: relative;\n",
              "            float: left;\n",
              "        }\n",
              "\n",
              "        \n",
              "\n",
              "        \n",
              "        #config {\n",
              "            float: left;\n",
              "            width: 400px;\n",
              "            height: 600px;\n",
              "        }\n",
              "        \n",
              "\n",
              "        \n",
              "</style>\n",
              "\n",
              "</head>\n",
              "\n",
              "<body>\n",
              "<div id = \"mynetwork\"></div>\n",
              "\n",
              "\n",
              "<div id = \"config\"></div>\n",
              "\n",
              "<script type=\"text/javascript\">\n",
              "\n",
              "    // initialize global variables.\n",
              "    var edges;\n",
              "    var nodes;\n",
              "    var network; \n",
              "    var container;\n",
              "    var options, data;\n",
              "\n",
              "    \n",
              "    // This method is responsible for drawing the graph, returns the drawn network\n",
              "    function drawGraph() {\n",
              "        var container = document.getElementById('mynetwork');\n",
              "        \n",
              "        \n",
              "\n",
              "        // parsing and collecting nodes and edges from the python\n",
              "        nodes = new vis.DataSet([{\"club\": \"Mr. Hi\", \"id\": 0, \"label\": 0, \"shape\": \"dot\", \"size\": 10}, {\"club\": \"Mr. Hi\", \"id\": 1, \"label\": 1, \"shape\": \"dot\", \"size\": 10}, {\"club\": \"Mr. Hi\", \"id\": 2, \"label\": 2, \"shape\": \"dot\", \"size\": 10}, {\"club\": \"Mr. Hi\", \"id\": 3, \"label\": 3, \"shape\": \"dot\", \"size\": 10}, {\"club\": \"Mr. Hi\", \"id\": 4, \"label\": 4, \"shape\": \"dot\", \"size\": 10}, {\"club\": \"Mr. Hi\", \"id\": 5, \"label\": 5, \"shape\": \"dot\", \"size\": 10}, {\"club\": \"Mr. Hi\", \"id\": 6, \"label\": 6, \"shape\": \"dot\", \"size\": 10}, {\"club\": \"Mr. Hi\", \"id\": 7, \"label\": 7, \"shape\": \"dot\", \"size\": 10}, {\"club\": \"Mr. Hi\", \"id\": 8, \"label\": 8, \"shape\": \"dot\", \"size\": 10}, {\"club\": \"Mr. Hi\", \"id\": 10, \"label\": 10, \"shape\": \"dot\", \"size\": 10}, {\"club\": \"Mr. Hi\", \"id\": 11, \"label\": 11, \"shape\": \"dot\", \"size\": 10}, {\"club\": \"Mr. Hi\", \"id\": 12, \"label\": 12, \"shape\": \"dot\", \"size\": 10}, {\"club\": \"Mr. Hi\", \"id\": 13, \"label\": 13, \"shape\": \"dot\", \"size\": 10}, {\"club\": \"Mr. Hi\", \"id\": 17, \"label\": 17, \"shape\": \"dot\", \"size\": 10}, {\"club\": \"Mr. Hi\", \"id\": 19, \"label\": 19, \"shape\": \"dot\", \"size\": 10}, {\"club\": \"Mr. Hi\", \"id\": 21, \"label\": 21, \"shape\": \"dot\", \"size\": 10}, {\"club\": \"Officer\", \"id\": 31, \"label\": 31, \"shape\": \"dot\", \"size\": 10}, {\"club\": \"Officer\", \"id\": 30, \"label\": 30, \"shape\": \"dot\", \"size\": 10}, {\"club\": \"Officer\", \"id\": 9, \"label\": 9, \"shape\": \"dot\", \"size\": 10}, {\"club\": \"Officer\", \"id\": 27, \"label\": 27, \"shape\": \"dot\", \"size\": 10}, {\"club\": \"Officer\", \"id\": 28, \"label\": 28, \"shape\": \"dot\", \"size\": 10}, {\"club\": \"Officer\", \"id\": 32, \"label\": 32, \"shape\": \"dot\", \"size\": 10}, {\"club\": \"Mr. Hi\", \"id\": 16, \"label\": 16, \"shape\": \"dot\", \"size\": 10}, {\"club\": \"Officer\", \"id\": 33, \"label\": 33, \"shape\": \"dot\", \"size\": 10}, {\"club\": \"Officer\", \"id\": 14, \"label\": 14, \"shape\": \"dot\", \"size\": 10}, {\"club\": \"Officer\", \"id\": 15, \"label\": 15, \"shape\": \"dot\", \"size\": 10}, {\"club\": \"Officer\", \"id\": 18, \"label\": 18, \"shape\": \"dot\", \"size\": 10}, {\"club\": \"Officer\", \"id\": 20, \"label\": 20, \"shape\": \"dot\", \"size\": 10}, {\"club\": \"Officer\", \"id\": 22, \"label\": 22, \"shape\": \"dot\", \"size\": 10}, {\"club\": \"Officer\", \"id\": 23, \"label\": 23, \"shape\": \"dot\", \"size\": 10}, {\"club\": \"Officer\", \"id\": 25, \"label\": 25, \"shape\": \"dot\", \"size\": 10}, {\"club\": \"Officer\", \"id\": 29, \"label\": 29, \"shape\": \"dot\", \"size\": 10}, {\"club\": \"Officer\", \"id\": 24, \"label\": 24, \"shape\": \"dot\", \"size\": 10}, {\"club\": \"Officer\", \"id\": 26, \"label\": 26, \"shape\": \"dot\", \"size\": 10}]);\n",
              "        edges = new vis.DataSet([{\"from\": 0, \"to\": 1, \"weight\": 1}, {\"from\": 0, \"to\": 2, \"weight\": 1}, {\"from\": 0, \"to\": 3, \"weight\": 1}, {\"from\": 0, \"to\": 4, \"weight\": 1}, {\"from\": 0, \"to\": 5, \"weight\": 1}, {\"from\": 0, \"to\": 6, \"weight\": 1}, {\"from\": 0, \"to\": 7, \"weight\": 1}, {\"from\": 0, \"to\": 8, \"weight\": 1}, {\"from\": 0, \"to\": 10, \"weight\": 1}, {\"from\": 0, \"to\": 11, \"weight\": 1}, {\"from\": 0, \"to\": 12, \"weight\": 1}, {\"from\": 0, \"to\": 13, \"weight\": 1}, {\"from\": 0, \"to\": 17, \"weight\": 1}, {\"from\": 0, \"to\": 19, \"weight\": 1}, {\"from\": 0, \"to\": 21, \"weight\": 1}, {\"from\": 0, \"to\": 31, \"weight\": 1}, {\"from\": 1, \"to\": 2, \"weight\": 1}, {\"from\": 1, \"to\": 3, \"weight\": 1}, {\"from\": 1, \"to\": 7, \"weight\": 1}, {\"from\": 1, \"to\": 13, \"weight\": 1}, {\"from\": 1, \"to\": 17, \"weight\": 1}, {\"from\": 1, \"to\": 19, \"weight\": 1}, {\"from\": 1, \"to\": 21, \"weight\": 1}, {\"from\": 1, \"to\": 30, \"weight\": 1}, {\"from\": 2, \"to\": 3, \"weight\": 1}, {\"from\": 2, \"to\": 7, \"weight\": 1}, {\"from\": 2, \"to\": 8, \"weight\": 1}, {\"from\": 2, \"to\": 9, \"weight\": 1}, {\"from\": 2, \"to\": 13, \"weight\": 1}, {\"from\": 2, \"to\": 27, \"weight\": 1}, {\"from\": 2, \"to\": 28, \"weight\": 1}, {\"from\": 2, \"to\": 32, \"weight\": 1}, {\"from\": 3, \"to\": 7, \"weight\": 1}, {\"from\": 3, \"to\": 12, \"weight\": 1}, {\"from\": 3, \"to\": 13, \"weight\": 1}, {\"from\": 4, \"to\": 6, \"weight\": 1}, {\"from\": 4, \"to\": 10, \"weight\": 1}, {\"from\": 5, \"to\": 6, \"weight\": 1}, {\"from\": 5, \"to\": 10, \"weight\": 1}, {\"from\": 5, \"to\": 16, \"weight\": 1}, {\"from\": 6, \"to\": 16, \"weight\": 1}, {\"from\": 8, \"to\": 30, \"weight\": 1}, {\"from\": 8, \"to\": 32, \"weight\": 1}, {\"from\": 8, \"to\": 33, \"weight\": 1}, {\"from\": 9, \"to\": 33, \"weight\": 1}, {\"from\": 13, \"to\": 33, \"weight\": 1}, {\"from\": 14, \"to\": 32, \"weight\": 1}, {\"from\": 14, \"to\": 33, \"weight\": 1}, {\"from\": 15, \"to\": 32, \"weight\": 1}, {\"from\": 15, \"to\": 33, \"weight\": 1}, {\"from\": 18, \"to\": 32, \"weight\": 1}, {\"from\": 18, \"to\": 33, \"weight\": 1}, {\"from\": 19, \"to\": 33, \"weight\": 1}, {\"from\": 20, \"to\": 32, \"weight\": 1}, {\"from\": 20, \"to\": 33, \"weight\": 1}, {\"from\": 22, \"to\": 32, \"weight\": 1}, {\"from\": 22, \"to\": 33, \"weight\": 1}, {\"from\": 23, \"to\": 25, \"weight\": 1}, {\"from\": 23, \"to\": 27, \"weight\": 1}, {\"from\": 23, \"to\": 29, \"weight\": 1}, {\"from\": 23, \"to\": 32, \"weight\": 1}, {\"from\": 23, \"to\": 33, \"weight\": 1}, {\"from\": 24, \"to\": 25, \"weight\": 1}, {\"from\": 24, \"to\": 27, \"weight\": 1}, {\"from\": 24, \"to\": 31, \"weight\": 1}, {\"from\": 25, \"to\": 31, \"weight\": 1}, {\"from\": 26, \"to\": 29, \"weight\": 1}, {\"from\": 26, \"to\": 33, \"weight\": 1}, {\"from\": 27, \"to\": 33, \"weight\": 1}, {\"from\": 28, \"to\": 31, \"weight\": 1}, {\"from\": 28, \"to\": 33, \"weight\": 1}, {\"from\": 29, \"to\": 32, \"weight\": 1}, {\"from\": 29, \"to\": 33, \"weight\": 1}, {\"from\": 30, \"to\": 32, \"weight\": 1}, {\"from\": 30, \"to\": 33, \"weight\": 1}, {\"from\": 31, \"to\": 32, \"weight\": 1}, {\"from\": 31, \"to\": 33, \"weight\": 1}, {\"from\": 32, \"to\": 33, \"weight\": 1}]);\n",
              "\n",
              "        // adding nodes and edges to the graph\n",
              "        data = {nodes: nodes, edges: edges};\n",
              "\n",
              "        var options = {\n",
              "    \"configure\": {\n",
              "        \"enabled\": true,\n",
              "        \"filter\": [\n",
              "            \"physics\"\n",
              "        ]\n",
              "    },\n",
              "    \"edges\": {\n",
              "        \"color\": {\n",
              "            \"inherit\": true\n",
              "        },\n",
              "        \"smooth\": {\n",
              "            \"enabled\": false,\n",
              "            \"type\": \"continuous\"\n",
              "        }\n",
              "    },\n",
              "    \"interaction\": {\n",
              "        \"dragNodes\": true,\n",
              "        \"hideEdgesOnDrag\": false,\n",
              "        \"hideNodesOnDrag\": false\n",
              "    },\n",
              "    \"physics\": {\n",
              "        \"enabled\": true,\n",
              "        \"stabilization\": {\n",
              "            \"enabled\": true,\n",
              "            \"fit\": true,\n",
              "            \"iterations\": 1000,\n",
              "            \"onlyDynamicEdges\": false,\n",
              "            \"updateInterval\": 50\n",
              "        }\n",
              "    }\n",
              "};\n",
              "        \n",
              "        \n",
              "\n",
              "        \n",
              "        // if this network requires displaying the configure window,\n",
              "        // put it in its div\n",
              "        options.configure[\"container\"] = document.getElementById(\"config\");\n",
              "        \n",
              "\n",
              "        network = new vis.Network(container, data, options);\n",
              "\n",
              "        \n",
              "\n",
              "\n",
              "        \n",
              "\n",
              "        return network;\n",
              "\n",
              "    }\n",
              "\n",
              "    drawGraph();\n",
              "\n",
              "</script>\n",
              "</body>\n",
              "</html>"
            ],
            "text/plain": [
              "<IPython.core.display.HTML object>"
            ]
          },
          "metadata": {
            "tags": []
          }
        }
      ]
    },
    {
      "cell_type": "code",
      "metadata": {
        "id": "Nzg5dkO65sbC"
      },
      "source": [
        ""
      ],
      "execution_count": null,
      "outputs": []
    }
  ]
}