{
  "nbformat": 4,
  "nbformat_minor": 0,
  "metadata": {
    "colab": {
      "provenance": [],
      "collapsed_sections": [
        "eaB6_maPbI1Z"
      ],
      "authorship_tag": "ABX9TyNNbE+67fHcled0HQBLaNAm",
      "include_colab_link": true
    },
    "kernelspec": {
      "name": "python3",
      "display_name": "Python 3"
    },
    "language_info": {
      "name": "python"
    }
  },
  "cells": [
    {
      "cell_type": "markdown",
      "metadata": {
        "id": "view-in-github",
        "colab_type": "text"
      },
      "source": [
        "<a href=\"https://colab.research.google.com/github/VinciGit00/Python/blob/main/Pytorch_first_model.ipynb\" target=\"_parent\"><img src=\"https://colab.research.google.com/assets/colab-badge.svg\" alt=\"Open In Colab\"/></a>"
      ]
    },
    {
      "cell_type": "code",
      "execution_count": null,
      "metadata": {
        "id": "y0EC-avVYewX"
      },
      "outputs": [],
      "source": [
        "import torch\n",
        "import torch.nn as nn\n",
        "import matplotlib.pyplot as plt\n"
      ]
    },
    {
      "cell_type": "markdown",
      "source": [
        "# Creation of the model"
      ],
      "metadata": {
        "id": "FWMEYnFReaNe"
      }
    },
    {
      "cell_type": "markdown",
      "source": [
        "### Create layers and batchs "
      ],
      "metadata": {
        "id": "eaB6_maPbI1Z"
      }
    },
    {
      "cell_type": "code",
      "source": [
        "# in  = input\n",
        "# h   = hidden\n",
        "# out = output\n",
        "n_in, n_h, n_out, batch_size = 10, 5, 1, 10\n"
      ],
      "metadata": {
        "id": "mw-xyVzQbRia"
      },
      "execution_count": null,
      "outputs": []
    },
    {
      "cell_type": "markdown",
      "source": [
        "### Creating the dataset"
      ],
      "metadata": {
        "id": "dldqlWEfbnG3"
      }
    },
    {
      "cell_type": "code",
      "source": [
        "x = torch.randn(batch_size, n_in)\n",
        "y = torch.tensor([[1.0], [0.0], [0.0], [1.0], [1.0], [1.0], [0.0], [0.0], [1.0], [1.0]])"
      ],
      "metadata": {
        "id": "t2ORURVibqX2"
      },
      "execution_count": null,
      "outputs": []
    },
    {
      "cell_type": "markdown",
      "source": [
        "### Creation of the model"
      ],
      "metadata": {
        "id": "MtRbNZtCcLHC"
      }
    },
    {
      "cell_type": "code",
      "source": [
        "model = nn.Sequential(nn.Linear(n_in, n_h),\n",
        "                      nn.ReLU(),\n",
        "                      nn.Linear(n_h, n_out),\n",
        "                      nn.Sigmoid())"
      ],
      "metadata": {
        "id": "beoNYHKYdYT-"
      },
      "execution_count": null,
      "outputs": []
    },
    {
      "cell_type": "code",
      "source": [
        "criterion = torch.nn.MSELoss()"
      ],
      "metadata": {
        "id": "aOi1EZo4dzkL"
      },
      "execution_count": null,
      "outputs": []
    },
    {
      "cell_type": "code",
      "source": [
        "optimizer = torch.optim.SGD(model.parameters(), lr=0.01)\n"
      ],
      "metadata": {
        "id": "0KvIjuDfd7M0"
      },
      "execution_count": null,
      "outputs": []
    },
    {
      "cell_type": "code",
      "source": [
        "for epoch in range(50):\n",
        "    # Forward Propagation\n",
        "    y_pred = model(x)\n",
        "    # Compute and print loss\n",
        "    loss = criterion(y_pred, y)\n",
        "    print('epoch: ', epoch,' loss: ', loss.item())\n",
        "    # Zero the gradients\n",
        "    optimizer.zero_grad()\n",
        "    \n",
        "    # perform a backward pass (backpropagation)\n",
        "    loss.backward()\n",
        "    \n",
        "    # Update the parameters\n",
        "    optimizer.step()"
      ],
      "metadata": {
        "colab": {
          "base_uri": "https://localhost:8080/"
        },
        "id": "EAxc6Sfad-HC",
        "outputId": "50ff275e-1bf4-49d8-b99c-d8a27e069911"
      },
      "execution_count": null,
      "outputs": [
        {
          "output_type": "stream",
          "name": "stdout",
          "text": [
            "epoch:  0  loss:  0.2547767162322998\n",
            "epoch:  1  loss:  0.25463441014289856\n",
            "epoch:  2  loss:  0.2544924020767212\n",
            "epoch:  3  loss:  0.2543506622314453\n",
            "epoch:  4  loss:  0.25420913100242615\n",
            "epoch:  5  loss:  0.25406789779663086\n",
            "epoch:  6  loss:  0.25392696261405945\n",
            "epoch:  7  loss:  0.25378626585006714\n",
            "epoch:  8  loss:  0.25364577770233154\n",
            "epoch:  9  loss:  0.2535055875778198\n",
            "epoch:  10  loss:  0.2533656656742096\n",
            "epoch:  11  loss:  0.25322598218917847\n",
            "epoch:  12  loss:  0.25308653712272644\n",
            "epoch:  13  loss:  0.2529473602771759\n",
            "epoch:  14  loss:  0.2528083920478821\n",
            "epoch:  15  loss:  0.25266969203948975\n",
            "epoch:  16  loss:  0.2525312304496765\n",
            "epoch:  17  loss:  0.2523930072784424\n",
            "epoch:  18  loss:  0.25225502252578735\n",
            "epoch:  19  loss:  0.2521172761917114\n",
            "epoch:  20  loss:  0.251979798078537\n",
            "epoch:  21  loss:  0.2518424689769745\n",
            "epoch:  22  loss:  0.2517054080963135\n",
            "epoch:  23  loss:  0.25156861543655396\n",
            "epoch:  24  loss:  0.25143200159072876\n",
            "epoch:  25  loss:  0.25129562616348267\n",
            "epoch:  26  loss:  0.2511594891548157\n",
            "epoch:  27  loss:  0.251023530960083\n",
            "epoch:  28  loss:  0.25088781118392944\n",
            "epoch:  29  loss:  0.2507523000240326\n",
            "epoch:  30  loss:  0.25061705708503723\n",
            "epoch:  31  loss:  0.2504819929599762\n",
            "epoch:  32  loss:  0.2503471374511719\n",
            "epoch:  33  loss:  0.25021249055862427\n",
            "epoch:  34  loss:  0.2500780522823334\n",
            "epoch:  35  loss:  0.249943807721138\n",
            "epoch:  36  loss:  0.24980978667736053\n",
            "epoch:  37  loss:  0.2496759593486786\n",
            "epoch:  38  loss:  0.24954232573509216\n",
            "epoch:  39  loss:  0.24940896034240723\n",
            "epoch:  40  loss:  0.24927568435668945\n",
            "epoch:  41  loss:  0.24914267659187317\n",
            "epoch:  42  loss:  0.24900980293750763\n",
            "epoch:  43  loss:  0.24887719750404358\n",
            "epoch:  44  loss:  0.24874469637870789\n",
            "epoch:  45  loss:  0.2486124336719513\n",
            "epoch:  46  loss:  0.24848034977912903\n",
            "epoch:  47  loss:  0.2483484447002411\n",
            "epoch:  48  loss:  0.24821677803993225\n",
            "epoch:  49  loss:  0.24808523058891296\n"
          ]
        }
      ]
    }
  ]
}