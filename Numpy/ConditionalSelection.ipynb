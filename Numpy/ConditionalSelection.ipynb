{
 "cells": [
  {
   "cell_type": "markdown",
   "metadata": {},
   "source": [
    "# Conditional selection"
   ]
  },
  {
   "cell_type": "code",
   "execution_count": 1,
   "metadata": {},
   "outputs": [],
   "source": [
    "import numpy as np"
   ]
  },
  {
   "cell_type": "code",
   "execution_count": 10,
   "metadata": {},
   "outputs": [
    {
     "data": {
      "text/plain": [
       "array([[6, 9, 3, 9, 7, 3, 7, 5, 9, 4],\n",
       "       [5, 9, 8, 5, 6, 2, 8, 5, 9, 6],\n",
       "       [2, 9, 4, 5, 2, 2, 7, 5, 3, 2],\n",
       "       [4, 5, 9, 8, 2, 7, 8, 2, 8, 3],\n",
       "       [8, 8, 2, 8, 9, 2, 8, 7, 4, 9],\n",
       "       [6, 2, 4, 8, 7, 2, 2, 2, 5, 9],\n",
       "       [7, 9, 4, 6, 4, 8, 3, 8, 2, 9],\n",
       "       [3, 7, 4, 8, 5, 2, 8, 6, 7, 8],\n",
       "       [5, 4, 2, 6, 3, 8, 7, 7, 6, 4],\n",
       "       [8, 6, 4, 2, 8, 5, 3, 2, 7, 7]])"
      ]
     },
     "execution_count": 10,
     "metadata": {},
     "output_type": "execute_result"
    }
   ],
   "source": [
    "a = np.random.randint(2, 10, size =(10,10))\n",
    "a"
   ]
  },
  {
   "cell_type": "code",
   "execution_count": 11,
   "metadata": {},
   "outputs": [
    {
     "data": {
      "text/plain": [
       "array([[ True,  True,  True,  True,  True,  True,  True,  True,  True,\n",
       "         True],\n",
       "       [ True,  True,  True,  True,  True, False,  True,  True,  True,\n",
       "         True],\n",
       "       [False,  True,  True,  True, False, False,  True,  True,  True,\n",
       "        False],\n",
       "       [ True,  True,  True,  True, False,  True,  True, False,  True,\n",
       "         True],\n",
       "       [ True,  True, False,  True,  True, False,  True,  True,  True,\n",
       "         True],\n",
       "       [ True, False,  True,  True,  True, False, False, False,  True,\n",
       "         True],\n",
       "       [ True,  True,  True,  True,  True,  True,  True,  True, False,\n",
       "         True],\n",
       "       [ True,  True,  True,  True,  True, False,  True,  True,  True,\n",
       "         True],\n",
       "       [ True,  True, False,  True,  True,  True,  True,  True,  True,\n",
       "         True],\n",
       "       [ True,  True,  True, False,  True,  True,  True, False,  True,\n",
       "         True]])"
      ]
     },
     "execution_count": 11,
     "metadata": {},
     "output_type": "execute_result"
    }
   ],
   "source": [
    "b = a > 2\n",
    "b"
   ]
  },
  {
   "cell_type": "code",
   "execution_count": 12,
   "metadata": {},
   "outputs": [
    {
     "data": {
      "text/plain": [
       "array([6, 9, 9, 7, 7, 5, 9, 4, 5, 9, 8, 5, 6, 8, 5, 9, 6, 9, 4, 5, 7, 5,\n",
       "       4, 5, 9, 8, 7, 8, 8, 8, 8, 8, 9, 8, 7, 4, 9, 6, 4, 8, 7, 5, 9, 7,\n",
       "       9, 4, 6, 4, 8, 8, 9, 7, 4, 8, 5, 8, 6, 7, 8, 5, 4, 6, 8, 7, 7, 6,\n",
       "       4, 8, 6, 4, 8, 5, 7, 7])"
      ]
     },
     "execution_count": 12,
     "metadata": {},
     "output_type": "execute_result"
    }
   ],
   "source": [
    "a[a>3]"
   ]
  },
  {
   "cell_type": "code",
   "execution_count": 13,
   "metadata": {},
   "outputs": [
    {
     "data": {
      "text/plain": [
       "array([6, 4, 8, 6, 2, 8, 6, 2, 4, 2, 2, 2, 4, 8, 2, 8, 2, 8, 8, 8, 2, 8,\n",
       "       2, 8, 4, 6, 2, 4, 8, 2, 2, 2, 4, 6, 4, 8, 8, 2, 4, 8, 2, 8, 6, 8,\n",
       "       4, 2, 6, 8, 6, 4, 8, 6, 4, 2, 8, 2])"
      ]
     },
     "execution_count": 13,
     "metadata": {},
     "output_type": "execute_result"
    }
   ],
   "source": [
    "a[a%2==0]"
   ]
  },
  {
   "cell_type": "code",
   "execution_count": 16,
   "metadata": {},
   "outputs": [],
   "source": [
    "two = a[a==2]"
   ]
  },
  {
   "cell_type": "code",
   "execution_count": 17,
   "metadata": {},
   "outputs": [
    {
     "data": {
      "text/plain": [
       "(18,)"
      ]
     },
     "execution_count": 17,
     "metadata": {},
     "output_type": "execute_result"
    }
   ],
   "source": [
    "#Number of elements\n",
    "two.shape"
   ]
  }
 ],
 "metadata": {
  "kernelspec": {
   "display_name": "Python 3.10.4 ('envpython')",
   "language": "python",
   "name": "python3"
  },
  "language_info": {
   "codemirror_mode": {
    "name": "ipython",
    "version": 3
   },
   "file_extension": ".py",
   "mimetype": "text/x-python",
   "name": "python",
   "nbconvert_exporter": "python",
   "pygments_lexer": "ipython3",
   "version": "3.10.4"
  },
  "orig_nbformat": 4,
  "vscode": {
   "interpreter": {
    "hash": "c982e9004abbf1a60aac44c7a430f2bd226fc3f4de2b69e2cbd9783fb95be95c"
   }
  }
 },
 "nbformat": 4,
 "nbformat_minor": 2
}
