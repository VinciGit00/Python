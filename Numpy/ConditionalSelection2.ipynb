{
 "cells": [
  {
   "cell_type": "code",
   "execution_count": 1,
   "metadata": {},
   "outputs": [],
   "source": [
    "import numpy as np"
   ]
  },
  {
   "cell_type": "code",
   "execution_count": 17,
   "metadata": {},
   "outputs": [
    {
     "name": "stdout",
     "output_type": "stream",
     "text": [
      "[[1 2 3 4 1 4 4 3 1 3]\n",
      " [2 2 4 4 2 4 4 1 2 1]\n",
      " [2 3 3 2 1 2 1 4 2 2]\n",
      " [1 3 4 4 1 1 1 2 3 3]\n",
      " [2 2 1 3 3 1 1 1 1 4]\n",
      " [2 3 2 2 1 3 3 2 2 3]\n",
      " [2 4 1 3 1 2 4 2 2 1]\n",
      " [3 2 3 1 3 1 1 2 3 3]\n",
      " [2 3 4 4 1 2 2 1 3 3]\n",
      " [3 3 4 3 2 1 3 1 1 2]]\n",
      "(10, 10)\n"
     ]
    }
   ],
   "source": [
    "# Create a matrix\n",
    "a = np.random.randint(1,5, size= (10,10))\n",
    "print(a)\n",
    "print(a.shape)"
   ]
  },
  {
   "cell_type": "code",
   "execution_count": 18,
   "metadata": {},
   "outputs": [
    {
     "data": {
      "text/plain": [
       "array([[1, 2, 3, 4, 1, 4, 4, 3, 1, 3],\n",
       "       [2, 3, 3, 2, 1, 2, 1, 4, 2, 2],\n",
       "       [3, 2, 3, 1, 3, 1, 1, 2, 3, 3]])"
      ]
     },
     "execution_count": 18,
     "metadata": {},
     "output_type": "execute_result"
    }
   ],
   "source": [
    "a[a[:, 2] == 3]"
   ]
  },
  {
   "cell_type": "code",
   "execution_count": 19,
   "metadata": {},
   "outputs": [
    {
     "name": "stdout",
     "output_type": "stream",
     "text": [
      "[[2 2 4 4 2 4 4 1 2 1]\n",
      " [1 3 4 4 1 1 1 2 3 3]\n",
      " [2 3 4 4 1 2 2 1 3 3]\n",
      " [3 3 4 3 2 1 3 1 1 2]]\n",
      "(4, 10)\n"
     ]
    }
   ],
   "source": [
    "b= a[a[:, 2] == 4]\n",
    "print(b)\n",
    "print(b.shape)"
   ]
  }
 ],
 "metadata": {
  "kernelspec": {
   "display_name": "Python 3.10.4 ('envpython')",
   "language": "python",
   "name": "python3"
  },
  "language_info": {
   "codemirror_mode": {
    "name": "ipython",
    "version": 3
   },
   "file_extension": ".py",
   "mimetype": "text/x-python",
   "name": "python",
   "nbconvert_exporter": "python",
   "pygments_lexer": "ipython3",
   "version": "3.10.4"
  },
  "orig_nbformat": 4,
  "vscode": {
   "interpreter": {
    "hash": "c982e9004abbf1a60aac44c7a430f2bd226fc3f4de2b69e2cbd9783fb95be95c"
   }
  }
 },
 "nbformat": 4,
 "nbformat_minor": 2
}
