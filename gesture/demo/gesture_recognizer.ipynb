{
  "cells": [
    {
      "cell_type": "markdown",
      "metadata": {
        "id": "h2q27gKz1H20"
      },
      "source": [
        "##### Copyright 2023 The MediaPipe Authors. All Rights Reserved."
      ]
    },
    {
      "cell_type": "code",
      "execution_count": 1,
      "metadata": {
        "cellView": "form",
        "id": "TUfAcER1oUS6"
      },
      "outputs": [],
      "source": [
        "#@title Licensed under the Apache License, Version 2.0 (the \"License\");\n",
        "# you may not use this file except in compliance with the License.\n",
        "# You may obtain a copy of the License at\n",
        "#\n",
        "# https://www.apache.org/licenses/LICENSE-2.0\n",
        "#\n",
        "# Unless required by applicable law or agreed to in writing, software\n",
        "# distributed under the License is distributed on an \"AS IS\" BASIS,\n",
        "# WITHOUT WARRANTIES OR CONDITIONS OF ANY KIND, either express or implied.\n",
        "# See the License for the specific language governing permissions and\n",
        "# limitations under the License."
      ]
    },
    {
      "cell_type": "markdown",
      "metadata": {
        "id": "L_cQX8dWu4Dv"
      },
      "source": [
        "# Gesture Recognizer with MediaPipe Tasks\n",
        "\n",
        "This notebook shows you how to use MediaPipe Tasks Python API to recognize hand gestures in images."
      ]
    },
    {
      "cell_type": "markdown",
      "metadata": {
        "id": "O6PN9FvIx614"
      },
      "source": [
        "## Preparation\n",
        "\n",
        "Let's start with installing MediaPipe."
      ]
    },
    {
      "cell_type": "markdown",
      "metadata": {
        "id": "a49D7h4TVmru"
      },
      "source": [
        "Then download an off-the-shelf model. This model can recognize 7 hand gestures: 👍, 👎, ✌️, ☝️, ✊, 👋, 🤟\n",
        "\n",
        "Check out the [MediaPipe documentation](https://developers.google.com/mediapipe/solutions/vision/gesture_recognizer#models) for more details about the model."
      ]
    },
    {
      "cell_type": "markdown",
      "metadata": {
        "id": "8W_6sv5-JUdY"
      },
      "source": [
        "## Visualization Utilities"
      ]
    },
    {
      "cell_type": "markdown",
      "metadata": {
        "id": "83PEJNp9yPBU"
      },
      "source": [
        "## Download test images\n",
        "\n",
        "Let's grab some test images that we'll use later. The images ([1](https://pixabay.com/photos/idea-pointing-raise-hand-raise-3082824/), [2](https://pixabay.com/photos/thumbs-up-happy-positive-woman-2649310/), [3](https://pixabay.com/photos/epidemic-disease-coronavirus-5082474/), [4](https://pixabay.com/photos/thumbs-down-disapprove-gesture-6744094/)) are from Pixabay."
      ]
    },
    {
      "cell_type": "code",
      "execution_count": 2,
      "metadata": {
        "id": "tzXuqyIBlXer"
      },
      "outputs": [],
      "source": [
        "import urllib\n",
        "\n",
        "IMAGE_FILENAMES = ['thumbs_down.jpg', 'victory.jpg', 'thumbs_up.jpg', 'pointing_up.jpg']\n",
        "\n",
        "for name in IMAGE_FILENAMES:\n",
        "  url = f'https://storage.googleapis.com/mediapipe-tasks/gesture_recognizer/{name}'\n",
        "  urllib.request.urlretrieve(url, name)"
      ]
    },
    {
      "cell_type": "markdown",
      "metadata": {
        "id": "P8XRmapjySMN"
      },
      "source": [
        "Then let's check out the images."
      ]
    },
    {
      "cell_type": "code",
      "execution_count": 3,
      "metadata": {
        "id": "8rjHk72-lmHX"
      },
      "outputs": [
        {
          "name": "stdout",
          "output_type": "stream",
          "text": [
            "thumbs_down.jpg\n",
            "victory.jpg\n",
            "thumbs_up.jpg\n",
            "pointing_up.jpg\n"
          ]
        }
      ],
      "source": [
        "import cv2\n",
        "\n",
        "import math\n",
        "\n",
        "DESIRED_HEIGHT = 480\n",
        "DESIRED_WIDTH = 480\n",
        "\n",
        "def resize_and_show(image):\n",
        "  h, w = image.shape[:2]\n",
        "  if h < w:\n",
        "    img = cv2.resize(image, (DESIRED_WIDTH, math.floor(h/(w/DESIRED_WIDTH))))\n",
        "  else:\n",
        "    img = cv2.resize(image, (math.floor(w/(h/DESIRED_HEIGHT)), DESIRED_HEIGHT))\n",
        "\n",
        "\n",
        "# Preview the images.\n",
        "images = {name: cv2.imread(name) for name in IMAGE_FILENAMES}\n",
        "for name, image in images.items():\n",
        "  print(name)\n",
        "  resize_and_show(image)"
      ]
    },
    {
      "cell_type": "markdown",
      "metadata": {
        "id": "Iy4r2_ePylIa"
      },
      "source": [
        "## Running inference and visualizing the results\n",
        "\n",
        "Here are the steps to run gesture recognizer using MediaPipe.\n",
        "\n",
        "Check out the [MediaPipe documentation](https://developers.google.com/mediapipe/solutions/vision/gesture_recognizer/python) to learn more about configuration options that this solution supports.\n",
        "\n",
        "*Note: Gesture Recognizer also returns the hand landmark it detects from the image, together with other useful information such as whether the hand(s) detected are left hand or right hand.*"
      ]
    },
    {
      "cell_type": "code",
      "execution_count": 5,
      "metadata": {
        "id": "KHqaswD6M8iO"
      },
      "outputs": [
        {
          "name": "stderr",
          "output_type": "stream",
          "text": [
            "WARNING: Logging before InitGoogleLogging() is written to STDERR\n",
            "W20230812 16:19:33.863729 83264128 gesture_recognizer_graph.cc:122] Hand Gesture Recognizer contains CPU only ops. Sets HandGestureRecognizerGraph acceleartion to Xnnpack.\n",
            "I20230812 16:19:33.866104 83264128 hand_gesture_recognizer_graph.cc:250] Custom gesture classifier is not defined.\n",
            "INFO: Created TensorFlow Lite XNNPACK delegate for CPU.\n"
          ]
        }
      ],
      "source": [
        "# STEP 1: Import the necessary modules.\n",
        "import mediapipe as mp\n",
        "from mediapipe.tasks import python\n",
        "from mediapipe.tasks.python import vision\n",
        "\n",
        "# STEP 2: Create an GestureRecognizer object.\n",
        "base_options = python.BaseOptions(model_asset_path='gesture_recognizer.task')\n",
        "options = vision.GestureRecognizerOptions(base_options=base_options)\n",
        "recognizer = vision.GestureRecognizer.create_from_options(options)\n",
        "\n",
        "images = []\n",
        "results = []\n",
        "for image_file_name in IMAGE_FILENAMES:\n",
        "  # STEP 3: Load the input image.\n",
        "  image = mp.Image.create_from_file(image_file_name)\n",
        "\n",
        "  # STEP 4: Recognize gestures in the input image.\n",
        "  recognition_result = recognizer.recognize(image)\n",
        "\n",
        "  # STEP 5: Process the result. In this case, visualize it.\n",
        "  images.append(image)\n",
        "  top_gesture = recognition_result.gestures[0][0]\n",
        "  hand_landmarks = recognition_result.hand_landmarks\n",
        "  results.append((top_gesture, hand_landmarks))\n",
        "\n",
        "#display_batch_of_images_with_gestures_and_hand_landmarks(images, results)"
      ]
    },
    {
      "cell_type": "code",
      "execution_count": 6,
      "metadata": {},
      "outputs": [
        {
          "name": "stdout",
          "output_type": "stream",
          "text": [
            "<class 'mediapipe.tasks.python.components.containers.category.Category'>\n",
            "Category(index=-1, score=0.8197615146636963, display_name='', category_name='Pointing_Up')\n"
          ]
        }
      ],
      "source": [
        "image = mp.Image.create_from_file(image_file_name)\n",
        "\n",
        "# STEP 4: Recognize gestures in the input image.\n",
        "recognition_result = recognizer.recognize(image)\n",
        "print(type(recognition_result.gestures[0][0]))\n",
        "print(recognition_result.gestures[0][0])"
      ]
    },
    {
      "cell_type": "code",
      "execution_count": 7,
      "metadata": {},
      "outputs": [
        {
          "data": {
            "text/plain": [
              "'Pointing_Up'"
            ]
          },
          "execution_count": 7,
          "metadata": {},
          "output_type": "execute_result"
        }
      ],
      "source": [
        "recognition_result.gestures[0][0].category_name"
      ]
    },
    {
      "cell_type": "markdown",
      "metadata": {},
      "source": [
        "# Function that i need"
      ]
    },
    {
      "cell_type": "markdown",
      "metadata": {},
      "source": [
        "## Functions"
      ]
    },
    {
      "cell_type": "code",
      "execution_count": 8,
      "metadata": {},
      "outputs": [],
      "source": [
        "import math\n",
        "from matplotlib import pyplot as plt\n",
        "from PIL import Image\n",
        "import mediapipe as mp\n",
        "from mediapipe.framework.formats import landmark_pb2"
      ]
    },
    {
      "cell_type": "code",
      "execution_count": 9,
      "metadata": {},
      "outputs": [],
      "source": [
        "import os"
      ]
    },
    {
      "cell_type": "code",
      "execution_count": 10,
      "metadata": {},
      "outputs": [],
      "source": [
        "def prediction(recognizer, image):\n",
        "    im = Image.fromarray(image)\n",
        "    im.save(os.getcwd()+\"/your_file.jpeg\")\n",
        "    image = mp.Image.create_from_file(\"your_file.jpeg\")\n",
        "    recognition_result = recognizer.recognize(image)\n",
        "    #Parte da fixare\n",
        "    print(recognition_result)\n",
        "    return recognition_result.gestures\n",
        "    #return recognition_result.gestures[0][0].category_name"
      ]
    },
    {
      "cell_type": "markdown",
      "metadata": {},
      "source": [
        "## Main"
      ]
    },
    {
      "cell_type": "code",
      "execution_count": 11,
      "metadata": {},
      "outputs": [],
      "source": [
        "import os"
      ]
    },
    {
      "cell_type": "code",
      "execution_count": 12,
      "metadata": {},
      "outputs": [
        {
          "data": {
            "text/plain": [
              "str"
            ]
          },
          "execution_count": 12,
          "metadata": {},
          "output_type": "execute_result"
        }
      ],
      "source": [
        "\n",
        "type(os.getcwd())"
      ]
    },
    {
      "cell_type": "code",
      "execution_count": 13,
      "metadata": {},
      "outputs": [],
      "source": [
        "from PIL import Image\n"
      ]
    },
    {
      "cell_type": "code",
      "execution_count": 14,
      "metadata": {},
      "outputs": [
        {
          "name": "stderr",
          "output_type": "stream",
          "text": [
            "W20230812 16:19:41.711146 83264128 gesture_recognizer_graph.cc:122] Hand Gesture Recognizer contains CPU only ops. Sets HandGestureRecognizerGraph acceleartion to Xnnpack.\n",
            "I20230812 16:19:41.713086 83264128 hand_gesture_recognizer_graph.cc:250] Custom gesture classifier is not defined.\n"
          ]
        },
        {
          "name": "stdout",
          "output_type": "stream",
          "text": [
            "GestureRecognizerResult(gestures=[], handedness=[], hand_landmarks=[], hand_world_landmarks=[])\n",
            "GestureRecognizerResult(gestures=[], handedness=[], hand_landmarks=[], hand_world_landmarks=[])\n",
            "GestureRecognizerResult(gestures=[], handedness=[], hand_landmarks=[], hand_world_landmarks=[])\n",
            "GestureRecognizerResult(gestures=[], handedness=[], hand_landmarks=[], hand_world_landmarks=[])\n",
            "GestureRecognizerResult(gestures=[], handedness=[], hand_landmarks=[], hand_world_landmarks=[])\n",
            "GestureRecognizerResult(gestures=[], handedness=[], hand_landmarks=[], hand_world_landmarks=[])\n",
            "GestureRecognizerResult(gestures=[], handedness=[], hand_landmarks=[], hand_world_landmarks=[])\n",
            "GestureRecognizerResult(gestures=[], handedness=[], hand_landmarks=[], hand_world_landmarks=[])\n",
            "GestureRecognizerResult(gestures=[], handedness=[], hand_landmarks=[], hand_world_landmarks=[])\n",
            "GestureRecognizerResult(gestures=[], handedness=[], hand_landmarks=[], hand_world_landmarks=[])\n",
            "GestureRecognizerResult(gestures=[], handedness=[], hand_landmarks=[], hand_world_landmarks=[])\n",
            "GestureRecognizerResult(gestures=[], handedness=[], hand_landmarks=[], hand_world_landmarks=[])\n",
            "GestureRecognizerResult(gestures=[], handedness=[], hand_landmarks=[], hand_world_landmarks=[])\n",
            "GestureRecognizerResult(gestures=[], handedness=[], hand_landmarks=[], hand_world_landmarks=[])\n",
            "GestureRecognizerResult(gestures=[], handedness=[], hand_landmarks=[], hand_world_landmarks=[])\n",
            "GestureRecognizerResult(gestures=[], handedness=[], hand_landmarks=[], hand_world_landmarks=[])\n",
            "GestureRecognizerResult(gestures=[], handedness=[], hand_landmarks=[], hand_world_landmarks=[])\n",
            "GestureRecognizerResult(gestures=[], handedness=[], hand_landmarks=[], hand_world_landmarks=[])\n",
            "GestureRecognizerResult(gestures=[], handedness=[], hand_landmarks=[], hand_world_landmarks=[])\n",
            "GestureRecognizerResult(gestures=[], handedness=[], hand_landmarks=[], hand_world_landmarks=[])\n",
            "GestureRecognizerResult(gestures=[], handedness=[], hand_landmarks=[], hand_world_landmarks=[])\n",
            "GestureRecognizerResult(gestures=[], handedness=[], hand_landmarks=[], hand_world_landmarks=[])\n",
            "GestureRecognizerResult(gestures=[], handedness=[], hand_landmarks=[], hand_world_landmarks=[])\n",
            "GestureRecognizerResult(gestures=[], handedness=[], hand_landmarks=[], hand_world_landmarks=[])\n",
            "GestureRecognizerResult(gestures=[], handedness=[], hand_landmarks=[], hand_world_landmarks=[])\n",
            "GestureRecognizerResult(gestures=[], handedness=[], hand_landmarks=[], hand_world_landmarks=[])\n",
            "GestureRecognizerResult(gestures=[], handedness=[], hand_landmarks=[], hand_world_landmarks=[])\n",
            "GestureRecognizerResult(gestures=[], handedness=[], hand_landmarks=[], hand_world_landmarks=[])\n",
            "GestureRecognizerResult(gestures=[], handedness=[], hand_landmarks=[], hand_world_landmarks=[])\n",
            "GestureRecognizerResult(gestures=[[Category(index=-1, score=0.674420952796936, display_name='', category_name='Open_Palm')]], handedness=[[Category(index=0, score=0.9497212171554565, display_name='Left', category_name='Left')]], hand_landmarks=[[NormalizedLandmark(x=0.38959866762161255, y=0.8387439250946045, z=4.842239036406681e-07, visibility=0.0, presence=0.0), NormalizedLandmark(x=0.4677759110927582, y=0.7948923707008362, z=-0.031773895025253296, visibility=0.0, presence=0.0), NormalizedLandmark(x=0.5416382551193237, y=0.692876398563385, z=-0.04028819501399994, visibility=0.0, presence=0.0), NormalizedLandmark(x=0.5932557582855225, y=0.5965222716331482, z=-0.04528171569108963, visibility=0.0, presence=0.0), NormalizedLandmark(x=0.6403299570083618, y=0.568405270576477, z=-0.05169794708490372, visibility=0.0, presence=0.0), NormalizedLandmark(x=0.4915154278278351, y=0.5111001133918762, z=-0.017557691782712936, visibility=0.0, presence=0.0), NormalizedLandmark(x=0.5233048796653748, y=0.37969788908958435, z=-0.02140001580119133, visibility=0.0, presence=0.0), NormalizedLandmark(x=0.5388274192810059, y=0.2916836440563202, z=-0.029336977750062943, visibility=0.0, presence=0.0), NormalizedLandmark(x=0.5505945086479187, y=0.213655024766922, z=-0.04012142866849899, visibility=0.0, presence=0.0), NormalizedLandmark(x=0.4426901936531067, y=0.49911341071128845, z=-0.016494344919919968, visibility=0.0, presence=0.0), NormalizedLandmark(x=0.4473668336868286, y=0.32766619324684143, z=-0.020670784637331963, visibility=0.0, presence=0.0), NormalizedLandmark(x=0.4520108699798584, y=0.23270907998085022, z=-0.03587988391518593, visibility=0.0, presence=0.0), NormalizedLandmark(x=0.45611944794654846, y=0.15614944696426392, z=-0.05122024565935135, visibility=0.0, presence=0.0), NormalizedLandmark(x=0.3954339921474457, y=0.5160932540893555, z=-0.01841050758957863, visibility=0.0, presence=0.0), NormalizedLandmark(x=0.3871919512748718, y=0.3548392653465271, z=-0.02882966957986355, visibility=0.0, presence=0.0), NormalizedLandmark(x=0.38849937915802, y=0.2609604597091675, z=-0.04460487514734268, visibility=0.0, presence=0.0), NormalizedLandmark(x=0.39180856943130493, y=0.1837845742702484, z=-0.058473166078329086, visibility=0.0, presence=0.0), NormalizedLandmark(x=0.34898698329925537, y=0.5561397075653076, z=-0.023264462128281593, visibility=0.0, presence=0.0), NormalizedLandmark(x=0.3350750803947449, y=0.42709726095199585, z=-0.03896350786089897, visibility=0.0, presence=0.0), NormalizedLandmark(x=0.3282815217971802, y=0.3464193642139435, z=-0.04994748532772064, visibility=0.0, presence=0.0), NormalizedLandmark(x=0.32846349477767944, y=0.2727528512477875, z=-0.05846584588289261, visibility=0.0, presence=0.0)]], hand_world_landmarks=[[Landmark(x=-0.029426390305161476, y=0.07715071737766266, z=0.01110328733921051, visibility=0.0, presence=0.0), Landmark(x=0.003371153026819229, y=0.05687106028199196, z=0.004277810454368591, visibility=0.0, presence=0.0), Landmark(x=0.030502043664455414, y=0.04202193394303322, z=0.003523126244544983, visibility=0.0, presence=0.0), Landmark(x=0.06281018257141113, y=0.025742216035723686, z=0.006026450544595718, visibility=0.0, presence=0.0), Landmark(x=0.0900888592004776, y=0.017095770686864853, z=0.0011799633502960205, visibility=0.0, presence=0.0), Landmark(x=0.02121957764029503, y=-0.004567557945847511, z=0.004877716302871704, visibility=0.0, presence=0.0), Landmark(x=0.03454503417015076, y=-0.02118564210832119, z=0.0015095807611942291, visibility=0.0, presence=0.0), Landmark(x=0.04532337188720703, y=-0.03816957399249077, z=-0.002952583134174347, visibility=0.0, presence=0.0), Landmark(x=0.04757063463330269, y=-0.05292715132236481, z=-0.023320570588111877, visibility=0.0, presence=0.0), Landmark(x=0.0018138415180146694, y=-0.004822524264454842, z=0.005150381475687027, visibility=0.0, presence=0.0), Landmark(x=0.011669373139739037, y=-0.03371265158057213, z=-0.002254195511341095, visibility=0.0, presence=0.0), Landmark(x=0.009923083707690239, y=-0.05717051029205322, z=-0.01766522228717804, visibility=0.0, presence=0.0), Landmark(x=0.018488410860300064, y=-0.0723811686038971, z=-0.02854369580745697, visibility=0.0, presence=0.0), Landmark(x=-0.014378534629940987, y=-0.0016416572034358978, z=-0.004174165427684784, visibility=0.0, presence=0.0), Landmark(x=-0.013742809183895588, y=-0.03022109717130661, z=-0.009901642799377441, visibility=0.0, presence=0.0), Landmark(x=-0.012485144659876823, y=-0.04731643944978714, z=-0.017207220196723938, visibility=0.0, presence=0.0), Landmark(x=-0.005653886124491692, y=-0.062376562505960464, z=-0.027260348200798035, visibility=0.0, presence=0.0), Landmark(x=-0.032324764877557755, y=0.00882330909371376, z=-0.00972939282655716, visibility=0.0, presence=0.0), Landmark(x=-0.032778650522232056, y=-0.010376542806625366, z=-0.010426938533782959, visibility=0.0, presence=0.0), Landmark(x=-0.03519380837678909, y=-0.032591089606285095, z=-0.01080167293548584, visibility=0.0, presence=0.0), Landmark(x=-0.03254469856619835, y=-0.0498284175992012, z=-0.0133582204580307, visibility=0.0, presence=0.0)]])\n",
            "GestureRecognizerResult(gestures=[[Category(index=-1, score=0.6772602796554565, display_name='', category_name='Open_Palm')]], handedness=[[Category(index=0, score=0.8833469748497009, display_name='Left', category_name='Left')]], hand_landmarks=[[NormalizedLandmark(x=0.38456106185913086, y=0.8517109155654907, z=4.433573224105203e-07, visibility=0.0, presence=0.0), NormalizedLandmark(x=0.46032699942588806, y=0.818699061870575, z=-0.03311988711357117, visibility=0.0, presence=0.0), NormalizedLandmark(x=0.5381790399551392, y=0.7228954434394836, z=-0.03887046128511429, visibility=0.0, presence=0.0), NormalizedLandmark(x=0.6008710861206055, y=0.6567915081977844, z=-0.04259553924202919, visibility=0.0, presence=0.0), NormalizedLandmark(x=0.6507120728492737, y=0.6615237593650818, z=-0.046767499297857285, visibility=0.0, presence=0.0), NormalizedLandmark(x=0.4832719564437866, y=0.48708972334861755, z=-0.010340720415115356, visibility=0.0, presence=0.0), NormalizedLandmark(x=0.5108364820480347, y=0.35349732637405396, z=-0.01152779720723629, visibility=0.0, presence=0.0), NormalizedLandmark(x=0.5250672101974487, y=0.2678452432155609, z=-0.016744371503591537, visibility=0.0, presence=0.0), NormalizedLandmark(x=0.5340474843978882, y=0.19392326474189758, z=-0.025074927136301994, visibility=0.0, presence=0.0), NormalizedLandmark(x=0.43092408776283264, y=0.4705505073070526, z=-0.008944682776927948, visibility=0.0, presence=0.0), NormalizedLandmark(x=0.4328612983226776, y=0.31297582387924194, z=-0.010002492927014828, visibility=0.0, presence=0.0), NormalizedLandmark(x=0.435258150100708, y=0.22365188598632812, z=-0.02118830755352974, visibility=0.0, presence=0.0), NormalizedLandmark(x=0.4330374300479889, y=0.15182030200958252, z=-0.03206652030348778, visibility=0.0, presence=0.0), NormalizedLandmark(x=0.38273048400878906, y=0.4939812421798706, z=-0.011762929148972034, visibility=0.0, presence=0.0), NormalizedLandmark(x=0.36674946546554565, y=0.34961336851119995, z=-0.025227759033441544, visibility=0.0, presence=0.0), NormalizedLandmark(x=0.35675710439682007, y=0.2621506154537201, z=-0.04322606325149536, visibility=0.0, presence=0.0), NormalizedLandmark(x=0.3449406027793884, y=0.19140753149986267, z=-0.05611768364906311, visibility=0.0, presence=0.0), NormalizedLandmark(x=0.33796626329421997, y=0.5430973172187805, z=-0.017868265509605408, visibility=0.0, presence=0.0), NormalizedLandmark(x=0.3053285479545593, y=0.4385155141353607, z=-0.039520274847745895, visibility=0.0, presence=0.0), NormalizedLandmark(x=0.284132182598114, y=0.3650924563407898, z=-0.05496467277407646, visibility=0.0, presence=0.0), NormalizedLandmark(x=0.26892518997192383, y=0.2997378706932068, z=-0.06439696997404099, visibility=0.0, presence=0.0)]], hand_world_landmarks=[[Landmark(x=-0.02180424891412258, y=0.08057241141796112, z=0.024729415774345398, visibility=0.0, presence=0.0), Landmark(x=0.006106089800596237, y=0.062158770859241486, z=0.015605449676513672, visibility=0.0, presence=0.0), Landmark(x=0.03605702891945839, y=0.05203457921743393, z=0.012691378593444824, visibility=0.0, presence=0.0), Landmark(x=0.0697556734085083, y=0.04312683269381523, z=0.01629537343978882, visibility=0.0, presence=0.0), Landmark(x=0.09506579488515854, y=0.03965539485216141, z=0.015280842781066895, visibility=0.0, presence=0.0), Landmark(x=0.018834751099348068, y=-0.0023628072813153267, z=0.004698410630226135, visibility=0.0, presence=0.0), Landmark(x=0.03310585394501686, y=-0.019444815814495087, z=0.0002697855234146118, visibility=0.0, presence=0.0), Landmark(x=0.043983105570077896, y=-0.036158159375190735, z=-0.006160907447338104, visibility=0.0, presence=0.0), Landmark(x=0.04499509558081627, y=-0.04955294728279114, z=-0.033391326665878296, visibility=0.0, presence=0.0), Landmark(x=0.001467081718146801, y=-0.005550827831029892, z=0.0045481473207473755, visibility=0.0, presence=0.0), Landmark(x=0.00985508132725954, y=-0.03123902902007103, z=-0.008024349808692932, visibility=0.0, presence=0.0), Landmark(x=0.00916365347802639, y=-0.05176649987697601, z=-0.02613586187362671, visibility=0.0, presence=0.0), Landmark(x=0.012637963518500328, y=-0.0654928907752037, z=-0.04703588783740997, visibility=0.0, presence=0.0), Landmark(x=-0.013521261513233185, y=-0.0024231048300862312, z=-0.004296302795410156, visibility=0.0, presence=0.0), Landmark(x=-0.01478363573551178, y=-0.025971850380301476, z=-0.01574893295764923, visibility=0.0, presence=0.0), Landmark(x=-0.01714514195919037, y=-0.042547162622213364, z=-0.029756709933280945, visibility=0.0, presence=0.0), Landmark(x=-0.014439165592193604, y=-0.05623895674943924, z=-0.04744356870651245, visibility=0.0, presence=0.0), Landmark(x=-0.03288143128156662, y=0.010094915516674519, z=-0.009223446249961853, visibility=0.0, presence=0.0), Landmark(x=-0.03558068722486496, y=-0.007331258617341518, z=-0.01405923068523407, visibility=0.0, presence=0.0), Landmark(x=-0.044166021049022675, y=-0.026458583772182465, z=-0.022411495447158813, visibility=0.0, presence=0.0), Landmark(x=-0.043535374104976654, y=-0.042566291987895966, z=-0.03234130144119263, visibility=0.0, presence=0.0)]])\n",
            "GestureRecognizerResult(gestures=[[Category(index=-1, score=0.6602217555046082, display_name='', category_name='Open_Palm')]], handedness=[[Category(index=0, score=0.9050672054290771, display_name='Left', category_name='Left')]], hand_landmarks=[[NormalizedLandmark(x=0.3723732829093933, y=0.849955677986145, z=3.790938762904261e-07, visibility=0.0, presence=0.0), NormalizedLandmark(x=0.452623188495636, y=0.8167587518692017, z=-0.026717333123087883, visibility=0.0, presence=0.0), NormalizedLandmark(x=0.5363219976425171, y=0.7313496470451355, z=-0.027667704969644547, visibility=0.0, presence=0.0), NormalizedLandmark(x=0.6029051542282104, y=0.6817757487297058, z=-0.028025463223457336, visibility=0.0, presence=0.0), NormalizedLandmark(x=0.6455048322677612, y=0.7108225226402283, z=-0.029423069208860397, visibility=0.0, presence=0.0), NormalizedLandmark(x=0.48432019352912903, y=0.4846605658531189, z=0.0021587053779512644, visibility=0.0, presence=0.0), NormalizedLandmark(x=0.5142123699188232, y=0.3519376516342163, z=0.004876596387475729, visibility=0.0, presence=0.0), NormalizedLandmark(x=0.5272752642631531, y=0.27324149012565613, z=9.082471660804003e-05, visibility=0.0, presence=0.0), NormalizedLandmark(x=0.5358738303184509, y=0.20267289876937866, z=-0.008442050777375698, visibility=0.0, presence=0.0), NormalizedLandmark(x=0.4301419258117676, y=0.46552568674087524, z=0.001448179711587727, visibility=0.0, presence=0.0), NormalizedLandmark(x=0.4338102638721466, y=0.30330514907836914, z=0.002498023211956024, visibility=0.0, presence=0.0), NormalizedLandmark(x=0.4367181062698364, y=0.21266654133796692, z=-0.011567441746592522, visibility=0.0, presence=0.0), NormalizedLandmark(x=0.43327853083610535, y=0.13919609785079956, z=-0.024866262450814247, visibility=0.0, presence=0.0), NormalizedLandmark(x=0.3800499439239502, y=0.4846883714199066, z=-0.0030575094278901815, visibility=0.0, presence=0.0), NormalizedLandmark(x=0.36520349979400635, y=0.34161698818206787, z=-0.014637119136750698, visibility=0.0, presence=0.0), NormalizedLandmark(x=0.35652732849121094, y=0.25365373492240906, z=-0.035739656537771225, visibility=0.0, presence=0.0), NormalizedLandmark(x=0.34384211897850037, y=0.18238955736160278, z=-0.05091147869825363, visibility=0.0, presence=0.0), NormalizedLandmark(x=0.333344042301178, y=0.5286691188812256, z=-0.010357639752328396, visibility=0.0, presence=0.0), NormalizedLandmark(x=0.30013585090637207, y=0.42275112867355347, z=-0.02951779216527939, visibility=0.0, presence=0.0), NormalizedLandmark(x=0.27904027700424194, y=0.348026841878891, z=-0.045241620391607285, visibility=0.0, presence=0.0), NormalizedLandmark(x=0.26310867071151733, y=0.28057509660720825, z=-0.05540883168578148, visibility=0.0, presence=0.0)]], hand_world_landmarks=[[Landmark(x=-0.025163117796182632, y=0.08086607605218887, z=0.030426308512687683, visibility=0.0, presence=0.0), Landmark(x=0.005045825615525246, y=0.064291812479496, z=0.0179164856672287, visibility=0.0, presence=0.0), Landmark(x=0.03601851314306259, y=0.05638260394334793, z=0.01391497254371643, visibility=0.0, presence=0.0), Landmark(x=0.07091206312179565, y=0.04989507794380188, z=0.016933470964431763, visibility=0.0, presence=0.0), Landmark(x=0.09243632107973099, y=0.048977479338645935, z=0.01423470675945282, visibility=0.0, presence=0.0), Landmark(x=0.021211860701441765, y=-0.001190492883324623, z=0.003949746489524841, visibility=0.0, presence=0.0), Landmark(x=0.03451712056994438, y=-0.019392145797610283, z=-0.0014843158423900604, visibility=0.0, presence=0.0), Landmark(x=0.04556585103273392, y=-0.033662278205156326, z=-0.008589193224906921, visibility=0.0, presence=0.0), Landmark(x=0.04590084031224251, y=-0.04638976976275444, z=-0.0351928249001503, visibility=0.0, presence=0.0), Landmark(x=0.001953053753823042, y=-0.00522751547396183, z=0.0038721635937690735, visibility=0.0, presence=0.0), Landmark(x=0.010988983325660229, y=-0.03271602466702461, z=-0.009148351848125458, visibility=0.0, presence=0.0), Landmark(x=0.010089131072163582, y=-0.05235216021537781, z=-0.02979026734828949, visibility=0.0, presence=0.0), Landmark(x=0.014471814036369324, y=-0.06611704081296921, z=-0.04938608407974243, visibility=0.0, presence=0.0), Landmark(x=-0.013750070706009865, y=-0.003067550715059042, z=-0.0036538690328598022, visibility=0.0, presence=0.0), Landmark(x=-0.014355048537254333, y=-0.027046116068959236, z=-0.017166540026664734, visibility=0.0, presence=0.0), Landmark(x=-0.015836548060178757, y=-0.04300416633486748, z=-0.033647358417510986, visibility=0.0, presence=0.0), Landmark(x=-0.011924231424927711, y=-0.05542032793164253, z=-0.05412299931049347, visibility=0.0, presence=0.0), Landmark(x=-0.035221442580223083, y=0.008449874818325043, z=-0.0072250813245773315, visibility=0.0, presence=0.0), Landmark(x=-0.038028113543987274, y=-0.009641448967158794, z=-0.013125509023666382, visibility=0.0, presence=0.0), Landmark(x=-0.04417005926370621, y=-0.02871515601873398, z=-0.022839725017547607, visibility=0.0, presence=0.0), Landmark(x=-0.04349701106548309, y=-0.04437076672911644, z=-0.03385087847709656, visibility=0.0, presence=0.0)]])\n",
            "GestureRecognizerResult(gestures=[[Category(index=-1, score=0.6607832312583923, display_name='', category_name='Open_Palm')]], handedness=[[Category(index=0, score=0.8153999447822571, display_name='Left', category_name='Left')]], hand_landmarks=[[NormalizedLandmark(x=0.371539831161499, y=0.8501296639442444, z=3.829906631835911e-07, visibility=0.0, presence=0.0), NormalizedLandmark(x=0.4531170427799225, y=0.8158127665519714, z=-0.024639762938022614, visibility=0.0, presence=0.0), NormalizedLandmark(x=0.5372024774551392, y=0.7388887405395508, z=-0.027315469458699226, visibility=0.0, presence=0.0), NormalizedLandmark(x=0.6062221527099609, y=0.6929930448532104, z=-0.028632506728172302, visibility=0.0, presence=0.0), NormalizedLandmark(x=0.6510997414588928, y=0.7241599559783936, z=-0.030722253024578094, visibility=0.0, presence=0.0), NormalizedLandmark(x=0.4881748855113983, y=0.4932834208011627, z=-0.0006938472506590188, visibility=0.0, presence=0.0), NormalizedLandmark(x=0.519278883934021, y=0.3606613874435425, z=0.0020236503332853317, visibility=0.0, presence=0.0), NormalizedLandmark(x=0.5317361354827881, y=0.27675095200538635, z=-0.0017095825169235468, visibility=0.0, presence=0.0), NormalizedLandmark(x=0.5402258634567261, y=0.20287978649139404, z=-0.009189963340759277, visibility=0.0, presence=0.0), NormalizedLandmark(x=0.4343646764755249, y=0.47158128023147583, z=-0.00012979964958503842, visibility=0.0, presence=0.0), NormalizedLandmark(x=0.4357120096683502, y=0.3020903468132019, z=0.0027138644363731146, visibility=0.0, presence=0.0), NormalizedLandmark(x=0.43744519352912903, y=0.20721733570098877, z=-0.007512649986892939, visibility=0.0, presence=0.0), NormalizedLandmark(x=0.4345810115337372, y=0.12738728523254395, z=-0.018153611570596695, visibility=0.0, presence=0.0), NormalizedLandmark(x=0.3826523721218109, y=0.48638513684272766, z=-0.0024735028855502605, visibility=0.0, presence=0.0), NormalizedLandmark(x=0.36664193868637085, y=0.33578574657440186, z=-0.009567205794155598, visibility=0.0, presence=0.0), NormalizedLandmark(x=0.3629938066005707, y=0.2444009780883789, z=-0.023836256936192513, visibility=0.0, presence=0.0), NormalizedLandmark(x=0.35504448413848877, y=0.17120566964149475, z=-0.03516701981425285, visibility=0.0, presence=0.0), NormalizedLandmark(x=0.3361555337905884, y=0.5300798416137695, z=-0.007552058435976505, visibility=0.0, presence=0.0), NormalizedLandmark(x=0.3107609152793884, y=0.4307616949081421, z=-0.02001228556036949, visibility=0.0, presence=0.0), NormalizedLandmark(x=0.295987069606781, y=0.363983154296875, z=-0.028810380026698112, visibility=0.0, presence=0.0), NormalizedLandmark(x=0.28484517335891724, y=0.30172500014305115, z=-0.034362535923719406, visibility=0.0, presence=0.0)]], hand_world_landmarks=[[Landmark(x=-0.027736898511648178, y=0.0765783041715622, z=0.029017552733421326, visibility=0.0, presence=0.0), Landmark(x=0.003963438794016838, y=0.061054643243551254, z=0.018217086791992188, visibility=0.0, presence=0.0), Landmark(x=0.033417243510484695, y=0.0542101114988327, z=0.01594868302345276, visibility=0.0, presence=0.0), Landmark(x=0.06882190704345703, y=0.0502873994410038, z=0.023117545992136, visibility=0.0, presence=0.0), Landmark(x=0.09509041905403137, y=0.05150704085826874, z=0.020220503211021423, visibility=0.0, presence=0.0), Landmark(x=0.018662074580788612, y=-0.0009272834286093712, z=0.004225730895996094, visibility=0.0, presence=0.0), Landmark(x=0.03261086344718933, y=-0.016293764114379883, z=-3.857910633087158e-05, visibility=0.0, presence=0.0), Landmark(x=0.04481968656182289, y=-0.02975448966026306, z=-0.004270285367965698, visibility=0.0, presence=0.0), Landmark(x=0.04498887062072754, y=-0.04566922411322594, z=-0.027416467666625977, visibility=0.0, presence=0.0), Landmark(x=0.002309190109372139, y=-0.005189352668821812, z=0.004017144441604614, visibility=0.0, presence=0.0), Landmark(x=0.009454114362597466, y=-0.030155163258314133, z=-0.005929827690124512, visibility=0.0, presence=0.0), Landmark(x=0.00910152867436409, y=-0.05236179381608963, z=-0.022032342851161957, visibility=0.0, presence=0.0), Landmark(x=0.014290856197476387, y=-0.06686045229434967, z=-0.035108596086502075, visibility=0.0, presence=0.0), Landmark(x=-0.013453122228384018, y=-0.002959039993584156, z=-0.003902338445186615, visibility=0.0, presence=0.0), Landmark(x=-0.014116207137703896, y=-0.02755841240286827, z=-0.011862508952617645, visibility=0.0, presence=0.0), Landmark(x=-0.01419732067734003, y=-0.044424451887607574, z=-0.024166882038116455, visibility=0.0, presence=0.0), Landmark(x=-0.007197262719273567, y=-0.0569598525762558, z=-0.03648628294467926, visibility=0.0, presence=0.0), Landmark(x=-0.032178644090890884, y=0.005598084069788456, z=-0.007063169032335281, visibility=0.0, presence=0.0), Landmark(x=-0.03191804140806198, y=-0.009600425139069557, z=-0.011460348963737488, visibility=0.0, presence=0.0), Landmark(x=-0.03667085990309715, y=-0.02532072365283966, z=-0.016489535570144653, visibility=0.0, presence=0.0), Landmark(x=-0.0342913419008255, y=-0.040589217096567154, z=-0.024207398295402527, visibility=0.0, presence=0.0)]])\n",
            "GestureRecognizerResult(gestures=[[Category(index=-1, score=0.6461764574050903, display_name='', category_name='Open_Palm')]], handedness=[[Category(index=0, score=0.938380241394043, display_name='Left', category_name='Left')]], hand_landmarks=[[NormalizedLandmark(x=0.3689451217651367, y=0.8501399755477905, z=4.4921486619386997e-07, visibility=0.0, presence=0.0), NormalizedLandmark(x=0.44953352212905884, y=0.8106080293655396, z=-0.03118332289159298, visibility=0.0, presence=0.0), NormalizedLandmark(x=0.5349057912826538, y=0.7325397729873657, z=-0.037724487483501434, visibility=0.0, presence=0.0), NormalizedLandmark(x=0.6068373322486877, y=0.6955069899559021, z=-0.042709603905677795, visibility=0.0, presence=0.0), NormalizedLandmark(x=0.6540740728378296, y=0.7204101085662842, z=-0.048674218356609344, visibility=0.0, presence=0.0), NormalizedLandmark(x=0.48244479298591614, y=0.4858311414718628, z=-0.005875799339264631, visibility=0.0, presence=0.0), NormalizedLandmark(x=0.5127557516098022, y=0.349834680557251, z=-0.004863342270255089, visibility=0.0, presence=0.0), NormalizedLandmark(x=0.5254679918289185, y=0.26621606945991516, z=-0.010073154233396053, visibility=0.0, presence=0.0), NormalizedLandmark(x=0.5342676043510437, y=0.19177311658859253, z=-0.018888894468545914, visibility=0.0, presence=0.0), NormalizedLandmark(x=0.427248477935791, y=0.4633554220199585, z=-0.005441748071461916, visibility=0.0, presence=0.0), NormalizedLandmark(x=0.4296642243862152, y=0.29153600335121155, z=-0.003303596517071128, visibility=0.0, presence=0.0), NormalizedLandmark(x=0.4328329861164093, y=0.196516752243042, z=-0.015806417912244797, visibility=0.0, presence=0.0), NormalizedLandmark(x=0.4295675754547119, y=0.11638373136520386, z=-0.02831178531050682, visibility=0.0, presence=0.0), NormalizedLandmark(x=0.37569475173950195, y=0.48038193583488464, z=-0.008678478188812733, visibility=0.0, presence=0.0), NormalizedLandmark(x=0.3578872084617615, y=0.32948678731918335, z=-0.018862558528780937, visibility=0.0, presence=0.0), NormalizedLandmark(x=0.3509290814399719, y=0.23563620448112488, z=-0.036736685782670975, visibility=0.0, presence=0.0), NormalizedLandmark(x=0.33934617042541504, y=0.158907949924469, z=-0.05047626793384552, visibility=0.0, presence=0.0), NormalizedLandmark(x=0.3296751379966736, y=0.5286690592765808, z=-0.015273833647370338, visibility=0.0, presence=0.0), NormalizedLandmark(x=0.29872944951057434, y=0.43358808755874634, z=-0.03255598619580269, visibility=0.0, presence=0.0), NormalizedLandmark(x=0.278827965259552, y=0.36431339383125305, z=-0.0446808747947216, visibility=0.0, presence=0.0), NormalizedLandmark(x=0.2627471685409546, y=0.2980165481567383, z=-0.052453409880399704, visibility=0.0, presence=0.0)]], hand_world_landmarks=[[Landmark(x=-0.026035916060209274, y=0.07934090495109558, z=0.034294918179512024, visibility=0.0, presence=0.0), Landmark(x=0.004781726747751236, y=0.06261436641216278, z=0.019280120730400085, visibility=0.0, presence=0.0), Landmark(x=0.03624875843524933, y=0.05662141367793083, z=0.014075368642807007, visibility=0.0, presence=0.0), Landmark(x=0.07333464920520782, y=0.05194992944598198, z=0.017196305096149445, visibility=0.0, presence=0.0), Landmark(x=0.09923793375492096, y=0.05096278339624405, z=0.015533998608589172, visibility=0.0, presence=0.0), Landmark(x=0.021048184484243393, y=-0.0007909974083304405, z=0.002452462911605835, visibility=0.0, presence=0.0), Landmark(x=0.034909311681985855, y=-0.0193626806139946, z=-0.0016908682882785797, visibility=0.0, presence=0.0), Landmark(x=0.04681512340903282, y=-0.03253830596804619, z=-0.008453696966171265, visibility=0.0, presence=0.0), Landmark(x=0.04631135240197182, y=-0.0458485409617424, z=-0.036759644746780396, visibility=0.0, presence=0.0), Landmark(x=0.0026891615707427263, y=-0.0051633999682962894, z=0.00330410897731781, visibility=0.0, presence=0.0), Landmark(x=0.011020795442163944, y=-0.03253650292754173, z=-0.009493865072727203, visibility=0.0, presence=0.0), Landmark(x=0.010482091456651688, y=-0.05308961123228073, z=-0.028857320547103882, visibility=0.0, presence=0.0), Landmark(x=0.01514286920428276, y=-0.0675191879272461, z=-0.045977115631103516, visibility=0.0, presence=0.0), Landmark(x=-0.013944150879979134, y=-0.002896698657423258, z=-0.0025565624237060547, visibility=0.0, presence=0.0), Landmark(x=-0.015247317962348461, y=-0.02711409702897072, z=-0.01619134098291397, visibility=0.0, presence=0.0), Landmark(x=-0.016375452280044556, y=-0.044032976031303406, z=-0.030609697103500366, visibility=0.0, presence=0.0), Landmark(x=-0.011026889085769653, y=-0.05756168067455292, z=-0.04610085487365723, visibility=0.0, presence=0.0), Landmark(x=-0.0352763906121254, y=0.007109195925295353, z=-0.005791164934635162, visibility=0.0, presence=0.0), Landmark(x=-0.03536678105592728, y=-0.007514900527894497, z=-0.01271287351846695, visibility=0.0, presence=0.0), Landmark(x=-0.041398003697395325, y=-0.023261841386556625, z=-0.021111279726028442, visibility=0.0, presence=0.0), Landmark(x=-0.03964032977819443, y=-0.03942510485649109, z=-0.03027385100722313, visibility=0.0, presence=0.0)]])\n",
            "GestureRecognizerResult(gestures=[], handedness=[], hand_landmarks=[], hand_world_landmarks=[])\n",
            "GestureRecognizerResult(gestures=[], handedness=[], hand_landmarks=[], hand_world_landmarks=[])\n",
            "GestureRecognizerResult(gestures=[], handedness=[], hand_landmarks=[], hand_world_landmarks=[])\n",
            "GestureRecognizerResult(gestures=[], handedness=[], hand_landmarks=[], hand_world_landmarks=[])\n",
            "GestureRecognizerResult(gestures=[[Category(index=-1, score=0.6752532124519348, display_name='', category_name='Open_Palm')]], handedness=[[Category(index=0, score=0.9507450461387634, display_name='Left', category_name='Left')]], hand_landmarks=[[NormalizedLandmark(x=0.3708576560020447, y=0.8434594869613647, z=5.147842898622912e-07, visibility=0.0, presence=0.0), NormalizedLandmark(x=0.4507265090942383, y=0.8078732490539551, z=-0.03277141973376274, visibility=0.0, presence=0.0), NormalizedLandmark(x=0.5321325659751892, y=0.7302060723304749, z=-0.039333537220954895, visibility=0.0, presence=0.0), NormalizedLandmark(x=0.6019920110702515, y=0.6956263780593872, z=-0.04371597245335579, visibility=0.0, presence=0.0), NormalizedLandmark(x=0.6503398418426514, y=0.710917592048645, z=-0.04821522533893585, visibility=0.0, presence=0.0), NormalizedLandmark(x=0.47822168469429016, y=0.48252546787261963, z=-0.007740268018096685, visibility=0.0, presence=0.0), NormalizedLandmark(x=0.5085377097129822, y=0.34235304594039917, z=-0.00648962426930666, visibility=0.0, presence=0.0), NormalizedLandmark(x=0.5226812362670898, y=0.25542309880256653, z=-0.010742089711129665, visibility=0.0, presence=0.0), NormalizedLandmark(x=0.5311660766601562, y=0.1795131266117096, z=-0.018723558634519577, visibility=0.0, presence=0.0), NormalizedLandmark(x=0.42489105463027954, y=0.4603639245033264, z=-0.006484827026724815, visibility=0.0, presence=0.0), NormalizedLandmark(x=0.4258078336715698, y=0.2876991927623749, z=-0.003770055016502738, visibility=0.0, presence=0.0), NormalizedLandmark(x=0.4280608296394348, y=0.1901566982269287, z=-0.01465859729796648, visibility=0.0, presence=0.0), NormalizedLandmark(x=0.4218974709510803, y=0.10942494869232178, z=-0.025859033688902855, visibility=0.0, presence=0.0), NormalizedLandmark(x=0.3719213604927063, y=0.47750282287597656, z=-0.009355105459690094, visibility=0.0, presence=0.0), NormalizedLandmark(x=0.34905970096588135, y=0.32148662209510803, z=-0.021750561892986298, visibility=0.0, presence=0.0), NormalizedLandmark(x=0.33767786622047424, y=0.2262004315853119, z=-0.04072561115026474, visibility=0.0, presence=0.0), NormalizedLandmark(x=0.31955665349960327, y=0.15045318007469177, z=-0.054644875228405, visibility=0.0, presence=0.0), NormalizedLandmark(x=0.32593268156051636, y=0.5282244086265564, z=-0.015514001250267029, visibility=0.0, presence=0.0), NormalizedLandmark(x=0.292298287153244, y=0.4429769515991211, z=-0.03636574745178223, visibility=0.0, presence=0.0), NormalizedLandmark(x=0.27068352699279785, y=0.38918110728263855, z=-0.050514426082372665, visibility=0.0, presence=0.0), NormalizedLandmark(x=0.24964608252048492, y=0.3387107253074646, z=-0.05921328440308571, visibility=0.0, presence=0.0)]], hand_world_landmarks=[[Landmark(x=-0.022507740184664726, y=0.07237759977579117, z=0.0390404537320137, visibility=0.0, presence=0.0), Landmark(x=0.005472879856824875, y=0.05711094290018082, z=0.021974660456180573, visibility=0.0, presence=0.0), Landmark(x=0.03583087772130966, y=0.054697901010513306, z=0.016797736287117004, visibility=0.0, presence=0.0), Landmark(x=0.07134520262479782, y=0.05187719687819481, z=0.015026401728391647, visibility=0.0, presence=0.0), Landmark(x=0.09527641534805298, y=0.050798170268535614, z=0.010847494006156921, visibility=0.0, presence=0.0), Landmark(x=0.016871238127350807, y=-0.0006773239001631737, z=0.003044441342353821, visibility=0.0, presence=0.0), Landmark(x=0.033232588320970535, y=-0.01776318997144699, z=-0.0030536800622940063, visibility=0.0, presence=0.0), Landmark(x=0.04494400694966316, y=-0.03339598700404167, z=-0.011169053614139557, visibility=0.0, presence=0.0), Landmark(x=0.044595204293727875, y=-0.046293482184410095, z=-0.04146243631839752, visibility=0.0, presence=0.0), Landmark(x=0.0016620152164250612, y=-0.004833837039768696, z=0.003112010657787323, visibility=0.0, presence=0.0), Landmark(x=0.011406369507312775, y=-0.030041374266147614, z=-0.01179109513759613, visibility=0.0, presence=0.0), Landmark(x=0.008854636922478676, y=-0.05289379507303238, z=-0.031648971140384674, visibility=0.0, presence=0.0), Landmark(x=0.011804871261119843, y=-0.06922678649425507, z=-0.052247777581214905, visibility=0.0, presence=0.0), Landmark(x=-0.011351194232702255, y=-0.002724409569054842, z=-0.0024295449256896973, visibility=0.0, presence=0.0), Landmark(x=-0.014526531100273132, y=-0.025037454441189766, z=-0.018051020801067352, visibility=0.0, presence=0.0), Landmark(x=-0.018630500882864, y=-0.042877621948719025, z=-0.029841721057891846, visibility=0.0, presence=0.0), Landmark(x=-0.016841160133481026, y=-0.06057293713092804, z=-0.04762020707130432, visibility=0.0, presence=0.0), Landmark(x=-0.031804949045181274, y=0.008396074175834656, z=-0.006172157824039459, visibility=0.0, presence=0.0), Landmark(x=-0.0331554040312767, y=-0.0037131300196051598, z=-0.014969080686569214, visibility=0.0, presence=0.0), Landmark(x=-0.04033733159303665, y=-0.016707943752408028, z=-0.02463245391845703, visibility=0.0, presence=0.0), Landmark(x=-0.041637491434812546, y=-0.028896501287817955, z=-0.03316667675971985, visibility=0.0, presence=0.0)]])\n",
            "GestureRecognizerResult(gestures=[], handedness=[], hand_landmarks=[], hand_world_landmarks=[])\n",
            "GestureRecognizerResult(gestures=[], handedness=[], hand_landmarks=[], hand_world_landmarks=[])\n",
            "GestureRecognizerResult(gestures=[[Category(index=-1, score=0.5887365937232971, display_name='', category_name='Open_Palm')]], handedness=[[Category(index=0, score=0.9359913468360901, display_name='Left', category_name='Left')]], hand_landmarks=[[NormalizedLandmark(x=0.3742538094520569, y=0.8527944087982178, z=6.230656026673387e-07, visibility=0.0, presence=0.0), NormalizedLandmark(x=0.45367807149887085, y=0.8141757249832153, z=-0.03360333666205406, visibility=0.0, presence=0.0), NormalizedLandmark(x=0.5326298475265503, y=0.722872793674469, z=-0.044741302728652954, visibility=0.0, presence=0.0), NormalizedLandmark(x=0.6004064083099365, y=0.6773054599761963, z=-0.05492240935564041, visibility=0.0, presence=0.0), NormalizedLandmark(x=0.6517764329910278, y=0.6870562434196472, z=-0.06648451834917068, visibility=0.0, presence=0.0), NormalizedLandmark(x=0.48060452938079834, y=0.4801344871520996, z=-0.012516185641288757, visibility=0.0, presence=0.0), NormalizedLandmark(x=0.5059269070625305, y=0.34379205107688904, z=-0.01832389086484909, visibility=0.0, presence=0.0), NormalizedLandmark(x=0.5192680954933167, y=0.2517431378364563, z=-0.028087276965379715, visibility=0.0, presence=0.0), NormalizedLandmark(x=0.5273243188858032, y=0.17307502031326294, z=-0.040376920253038406, visibility=0.0, presence=0.0), NormalizedLandmark(x=0.4247276782989502, y=0.46285510063171387, z=-0.016870375722646713, visibility=0.0, presence=0.0), NormalizedLandmark(x=0.42701229453086853, y=0.2868391275405884, z=-0.021450966596603394, visibility=0.0, presence=0.0), NormalizedLandmark(x=0.42770951986312866, y=0.18767714500427246, z=-0.03572240099310875, visibility=0.0, presence=0.0), NormalizedLandmark(x=0.4243672490119934, y=0.10695531964302063, z=-0.049214981496334076, visibility=0.0, presence=0.0), NormalizedLandmark(x=0.37179264426231384, y=0.48875075578689575, z=-0.025986483320593834, visibility=0.0, presence=0.0), NormalizedLandmark(x=0.36060604453086853, y=0.3216961622238159, z=-0.042529940605163574, visibility=0.0, presence=0.0), NormalizedLandmark(x=0.3495509922504425, y=0.22021308541297913, z=-0.05986463651061058, visibility=0.0, presence=0.0), NormalizedLandmark(x=0.3381480574607849, y=0.13486868143081665, z=-0.07311220467090607, visibility=0.0, presence=0.0), NormalizedLandmark(x=0.3223944902420044, y=0.5449374914169312, z=-0.03876735270023346, visibility=0.0, presence=0.0), NormalizedLandmark(x=0.2996576428413391, y=0.4257444143295288, z=-0.06505171954631805, visibility=0.0, presence=0.0), NormalizedLandmark(x=0.28023093938827515, y=0.3472197353839874, z=-0.08015195280313492, visibility=0.0, presence=0.0), NormalizedLandmark(x=0.26670151948928833, y=0.27512407302856445, z=-0.0894397646188736, visibility=0.0, presence=0.0)]], hand_world_landmarks=[[Landmark(x=-0.025650016963481903, y=0.07689763605594635, z=0.030556634068489075, visibility=0.0, presence=0.0), Landmark(x=0.0020566433668136597, y=0.05778369680047035, z=0.01842307299375534, visibility=0.0, presence=0.0), Landmark(x=0.030607247725129128, y=0.05252630263566971, z=0.01100146770477295, visibility=0.0, presence=0.0), Landmark(x=0.06772150099277496, y=0.04822257533669472, z=0.00941523164510727, visibility=0.0, presence=0.0), Landmark(x=0.09526005387306213, y=0.04741198569536209, z=0.007744163274765015, visibility=0.0, presence=0.0), Landmark(x=0.016876354813575745, y=3.538094460964203e-06, z=0.003599509596824646, visibility=0.0, presence=0.0), Landmark(x=0.033059991896152496, y=-0.018851108849048615, z=5.701184272766113e-05, visibility=0.0, presence=0.0), Landmark(x=0.04243308678269386, y=-0.03523026779294014, z=-0.008027896285057068, visibility=0.0, presence=0.0), Landmark(x=0.04355151951313019, y=-0.048250481486320496, z=-0.037116870284080505, visibility=0.0, presence=0.0), Landmark(x=0.0008333954028785229, y=-0.005044715013355017, z=0.004373762756586075, visibility=0.0, presence=0.0), Landmark(x=0.012100575491786003, y=-0.03158584237098694, z=-0.006738230586051941, visibility=0.0, presence=0.0), Landmark(x=0.010617876425385475, y=-0.0537458136677742, z=-0.024972185492515564, visibility=0.0, presence=0.0), Landmark(x=0.014082111418247223, y=-0.07250736653804779, z=-0.045619264245033264, visibility=0.0, presence=0.0), Landmark(x=-0.011106112971901894, y=-0.0020768814720213413, z=-0.0031916797161102295, visibility=0.0, presence=0.0), Landmark(x=-0.009812884964048862, y=-0.02650979347527027, z=-0.01541505753993988, visibility=0.0, presence=0.0), Landmark(x=-0.011762192472815514, y=-0.0471634715795517, z=-0.027072042226791382, visibility=0.0, presence=0.0), Landmark(x=-0.012749753892421722, y=-0.06524968892335892, z=-0.040242910385131836, visibility=0.0, presence=0.0), Landmark(x=-0.029465384781360626, y=0.010011592879891396, z=-0.00737772136926651, visibility=0.0, presence=0.0), Landmark(x=-0.029729850590229034, y=-0.006878891959786415, z=-0.013713538646697998, visibility=0.0, presence=0.0), Landmark(x=-0.03607355058193207, y=-0.025969522073864937, z=-0.023760676383972168, visibility=0.0, presence=0.0), Landmark(x=-0.035787034779787064, y=-0.04278890788555145, z=-0.031053081154823303, visibility=0.0, presence=0.0)]])\n",
            "GestureRecognizerResult(gestures=[[Category(index=-1, score=0.6028074622154236, display_name='', category_name='Open_Palm')]], handedness=[[Category(index=0, score=0.7668189406394958, display_name='Left', category_name='Left')]], hand_landmarks=[[NormalizedLandmark(x=0.35724008083343506, y=0.8373923897743225, z=6.856742515992664e-07, visibility=0.0, presence=0.0), NormalizedLandmark(x=0.4397587776184082, y=0.8090617656707764, z=-0.034893110394477844, visibility=0.0, presence=0.0), NormalizedLandmark(x=0.5319024920463562, y=0.6929966807365417, z=-0.0414787232875824, visibility=0.0, presence=0.0), NormalizedLandmark(x=0.5985615253448486, y=0.6207591891288757, z=-0.046233534812927246, visibility=0.0, presence=0.0), NormalizedLandmark(x=0.6563664078712463, y=0.6240854263305664, z=-0.05205312743782997, visibility=0.0, presence=0.0), NormalizedLandmark(x=0.4803326427936554, y=0.4695724844932556, z=0.006063560489565134, visibility=0.0, presence=0.0), NormalizedLandmark(x=0.5008766651153564, y=0.34748148918151855, z=0.012226181104779243, visibility=0.0, presence=0.0), NormalizedLandmark(x=0.5122567415237427, y=0.25273486971855164, z=0.011236277408897877, visibility=0.0, presence=0.0), NormalizedLandmark(x=0.5182814002037048, y=0.17329946160316467, z=0.004068103618919849, visibility=0.0, presence=0.0), NormalizedLandmark(x=0.42433637380599976, y=0.45571842789649963, z=0.006745411083102226, visibility=0.0, presence=0.0), NormalizedLandmark(x=0.4231773614883423, y=0.29565951228141785, z=0.013319199904799461, visibility=0.0, presence=0.0), NormalizedLandmark(x=0.4201589822769165, y=0.19317245483398438, z=0.0073575545102357864, visibility=0.0, presence=0.0), NormalizedLandmark(x=0.41431382298469543, y=0.10662660002708435, z=0.0008568273042328656, visibility=0.0, presence=0.0), NormalizedLandmark(x=0.3681069612503052, y=0.48181259632110596, z=0.0018727456917986274, visibility=0.0, presence=0.0), NormalizedLandmark(x=0.36181098222732544, y=0.337039589881897, z=-0.007999304682016373, visibility=0.0, presence=0.0), NormalizedLandmark(x=0.35737645626068115, y=0.2380729615688324, z=-0.01458776369690895, visibility=0.0, presence=0.0), NormalizedLandmark(x=0.3544764518737793, y=0.15932556986808777, z=-0.01852658949792385, visibility=0.0, presence=0.0), NormalizedLandmark(x=0.3175655007362366, y=0.5422233939170837, z=-0.0071605052798986435, visibility=0.0, presence=0.0), NormalizedLandmark(x=0.30562978982925415, y=0.4334411025047302, z=-0.025648176670074463, visibility=0.0, presence=0.0), NormalizedLandmark(x=0.2932181656360626, y=0.34836405515670776, z=-0.0322733074426651, visibility=0.0, presence=0.0), NormalizedLandmark(x=0.287982314825058, y=0.27055609226226807, z=-0.03446319326758385, visibility=0.0, presence=0.0)]], hand_world_landmarks=[[Landmark(x=-0.030719229951500893, y=0.07691086083650589, z=0.019514665007591248, visibility=0.0, presence=0.0), Landmark(x=0.003373708575963974, y=0.05878550931811333, z=0.008406326174736023, visibility=0.0, presence=0.0), Landmark(x=0.03206329792737961, y=0.04522367939352989, z=0.009919606149196625, visibility=0.0, presence=0.0), Landmark(x=0.06791474670171738, y=0.03683996945619583, z=0.011884547770023346, visibility=0.0, presence=0.0), Landmark(x=0.09993579983711243, y=0.036163706332445145, z=0.012761607766151428, visibility=0.0, presence=0.0), Landmark(x=0.018505360931158066, y=-0.00499698193743825, z=0.005153238773345947, visibility=0.0, presence=0.0), Landmark(x=0.03215936943888664, y=-0.01888696476817131, z=0.0013868287205696106, visibility=0.0, presence=0.0), Landmark(x=0.04241533949971199, y=-0.03312826156616211, z=-0.005033053457736969, visibility=0.0, presence=0.0), Landmark(x=0.04184447228908539, y=-0.04941414296627045, z=-0.03286910057067871, visibility=0.0, presence=0.0), Landmark(x=0.0012289315927773714, y=-0.005339841358363628, z=0.005344845354557037, visibility=0.0, presence=0.0), Landmark(x=0.013325049541890621, y=-0.03402470052242279, z=0.002083089202642441, visibility=0.0, presence=0.0), Landmark(x=0.008945232257246971, y=-0.06069837510585785, z=-0.019072018563747406, visibility=0.0, presence=0.0), Landmark(x=0.014351274818181992, y=-0.07761362195014954, z=-0.038188591599464417, visibility=0.0, presence=0.0), Landmark(x=-0.012816611677408218, y=-0.0014956756494939327, z=-0.004308983683586121, visibility=0.0, presence=0.0), Landmark(x=-0.009164453484117985, y=-0.02775779739022255, z=-0.011474892497062683, visibility=0.0, presence=0.0), Landmark(x=-0.007510824128985405, y=-0.04613830894231796, z=-0.020582541823387146, visibility=0.0, presence=0.0), Landmark(x=-0.0031145215034484863, y=-0.06281614303588867, z=-0.03441765904426575, visibility=0.0, presence=0.0), Landmark(x=-0.03212307393550873, y=0.010062105022370815, z=-0.009856194257736206, visibility=0.0, presence=0.0), Landmark(x=-0.029597774147987366, y=-0.005817201919853687, z=-0.0131353959441185, visibility=0.0, presence=0.0), Landmark(x=-0.032119669020175934, y=-0.02299247682094574, z=-0.01686638593673706, visibility=0.0, presence=0.0), Landmark(x=-0.03207211196422577, y=-0.04273943603038788, z=-0.023060999810695648, visibility=0.0, presence=0.0)]])\n",
            "GestureRecognizerResult(gestures=[[Category(index=-1, score=0.5615226626396179, display_name='', category_name='Open_Palm')]], handedness=[[Category(index=0, score=0.6575338244438171, display_name='Left', category_name='Left')]], hand_landmarks=[[NormalizedLandmark(x=0.3453216552734375, y=0.8303226232528687, z=5.554636004490021e-07, visibility=0.0, presence=0.0), NormalizedLandmark(x=0.4349462389945984, y=0.798797070980072, z=-0.03395983204245567, visibility=0.0, presence=0.0), NormalizedLandmark(x=0.5245184302330017, y=0.6789039373397827, z=-0.03518924117088318, visibility=0.0, presence=0.0), NormalizedLandmark(x=0.5882793068885803, y=0.5967972874641418, z=-0.03503481298685074, visibility=0.0, presence=0.0), NormalizedLandmark(x=0.6410385370254517, y=0.5734879970550537, z=-0.03655276820063591, visibility=0.0, presence=0.0), NormalizedLandmark(x=0.47763821482658386, y=0.47298747301101685, z=0.01745476946234703, visibility=0.0, presence=0.0), NormalizedLandmark(x=0.494146466255188, y=0.3472723364830017, z=0.02854130044579506, visibility=0.0, presence=0.0), NormalizedLandmark(x=0.5028240084648132, y=0.2498025894165039, z=0.029451141133904457, visibility=0.0, presence=0.0), NormalizedLandmark(x=0.5080541968345642, y=0.16791322827339172, z=0.0234797615557909, visibility=0.0, presence=0.0), NormalizedLandmark(x=0.42394575476646423, y=0.4642846882343292, z=0.019935578107833862, visibility=0.0, presence=0.0), NormalizedLandmark(x=0.42106401920318604, y=0.3212053179740906, z=0.030493134632706642, visibility=0.0, presence=0.0), NormalizedLandmark(x=0.41701140999794006, y=0.23017984628677368, z=0.023154715076088905, visibility=0.0, presence=0.0), NormalizedLandmark(x=0.4075470268726349, y=0.16092237830162048, z=0.015667444095015526, visibility=0.0, presence=0.0), NormalizedLandmark(x=0.37226757407188416, y=0.49212026596069336, z=0.016176752746105194, visibility=0.0, presence=0.0), NormalizedLandmark(x=0.36735954880714417, y=0.36126863956451416, z=0.010299356654286385, visibility=0.0, presence=0.0), NormalizedLandmark(x=0.3622671663761139, y=0.2828161120414734, z=-0.00021534773986786604, visibility=0.0, presence=0.0), NormalizedLandmark(x=0.3591122031211853, y=0.21612942218780518, z=-0.007179271429777145, visibility=0.0, presence=0.0), NormalizedLandmark(x=0.320649653673172, y=0.5388695001602173, z=0.008123093284666538, visibility=0.0, presence=0.0), NormalizedLandmark(x=0.3134607672691345, y=0.42605364322662354, z=-0.010878026485443115, visibility=0.0, presence=0.0), NormalizedLandmark(x=0.3028121590614319, y=0.33790233731269836, z=-0.022906510159373283, visibility=0.0, presence=0.0), NormalizedLandmark(x=0.2994197905063629, y=0.259323388338089, z=-0.029246758669614792, visibility=0.0, presence=0.0)]], hand_world_landmarks=[[Landmark(x=-0.03258002549409866, y=0.0708889365196228, z=0.006411857903003693, visibility=0.0, presence=0.0), Landmark(x=-0.0008667688816785812, y=0.05582108348608017, z=-0.0018488839268684387, visibility=0.0, presence=0.0), Landmark(x=0.031468261033296585, y=0.0413166843354702, z=0.004052683711051941, visibility=0.0, presence=0.0), Landmark(x=0.06660609692335129, y=0.031661249697208405, z=0.008481282740831375, visibility=0.0, presence=0.0), Landmark(x=0.09416137635707855, y=0.030680600553750992, z=0.011954426765441895, visibility=0.0, presence=0.0), Landmark(x=0.020954065024852753, y=-0.006094035692512989, z=0.006051912903785706, visibility=0.0, presence=0.0), Landmark(x=0.032302070409059525, y=-0.018215114250779152, z=0.005696102976799011, visibility=0.0, presence=0.0), Landmark(x=0.04097141698002815, y=-0.03615160286426544, z=0.0006349235773086548, visibility=0.0, presence=0.0), Landmark(x=0.042119093239307404, y=-0.05585581064224243, z=-0.02296331524848938, visibility=0.0, presence=0.0), Landmark(x=0.001526445266790688, y=-0.004688912071287632, z=0.005689777433872223, visibility=0.0, presence=0.0), Landmark(x=0.014507949352264404, y=-0.03203539177775383, z=0.0037714391946792603, visibility=0.0, presence=0.0), Landmark(x=0.010567983612418175, y=-0.052833445370197296, z=-0.019233345985412598, visibility=0.0, presence=0.0), Landmark(x=0.01085345447063446, y=-0.06647536158561707, z=-0.04154255986213684, visibility=0.0, presence=0.0), Landmark(x=-0.014279312454164028, y=-0.0022109942510724068, z=-0.004715517163276672, visibility=0.0, presence=0.0), Landmark(x=-0.007635938003659248, y=-0.025125037878751755, z=-0.012170359492301941, visibility=0.0, presence=0.0), Landmark(x=-0.006945503875613213, y=-0.03685399144887924, z=-0.022565975785255432, visibility=0.0, presence=0.0), Landmark(x=-0.0057822335511446, y=-0.04899974539875984, z=-0.04138214886188507, visibility=0.0, presence=0.0), Landmark(x=-0.03447933495044708, y=0.010823064483702183, z=-0.011609524488449097, visibility=0.0, presence=0.0), Landmark(x=-0.029839519411325455, y=-0.008163712918758392, z=-0.012802518904209137, visibility=0.0, presence=0.0), Landmark(x=-0.032007478177547455, y=-0.02904294617474079, z=-0.019135355949401855, visibility=0.0, presence=0.0), Landmark(x=-0.03343464434146881, y=-0.048593584448099136, z=-0.02305918186903, visibility=0.0, presence=0.0)]])\n",
            "GestureRecognizerResult(gestures=[[Category(index=-1, score=0.5755819082260132, display_name='', category_name='Open_Palm')]], handedness=[[Category(index=0, score=0.9376415014266968, display_name='Left', category_name='Left')]], hand_landmarks=[[NormalizedLandmark(x=0.353177934885025, y=0.8235316872596741, z=3.4654073033379973e-07, visibility=0.0, presence=0.0), NormalizedLandmark(x=0.4427681267261505, y=0.775739312171936, z=-0.032879509031772614, visibility=0.0, presence=0.0), NormalizedLandmark(x=0.5162140130996704, y=0.6604244112968445, z=-0.03938451036810875, visibility=0.0, presence=0.0), NormalizedLandmark(x=0.5724017024040222, y=0.5647726655006409, z=-0.043986767530441284, visibility=0.0, presence=0.0), NormalizedLandmark(x=0.623192310333252, y=0.5139667391777039, z=-0.05002005025744438, visibility=0.0, presence=0.0), NormalizedLandmark(x=0.46235692501068115, y=0.4753682017326355, z=-0.0065558603964746, visibility=0.0, presence=0.0), NormalizedLandmark(x=0.48968350887298584, y=0.3323395848274231, z=-0.015069521963596344, visibility=0.0, presence=0.0), NormalizedLandmark(x=0.5006247162818909, y=0.24388882517814636, z=-0.029379401355981827, visibility=0.0, presence=0.0), NormalizedLandmark(x=0.511165976524353, y=0.15919038653373718, z=-0.04522719234228134, visibility=0.0, presence=0.0), NormalizedLandmark(x=0.41784268617630005, y=0.4705963134765625, z=-0.008791930973529816, visibility=0.0, presence=0.0), NormalizedLandmark(x=0.41903042793273926, y=0.3016442656517029, z=-0.018101658672094345, visibility=0.0, presence=0.0), NormalizedLandmark(x=0.42424824833869934, y=0.19652274250984192, z=-0.04181789606809616, visibility=0.0, presence=0.0), NormalizedLandmark(x=0.4301101267337799, y=0.10374987125396729, z=-0.06452678143978119, visibility=0.0, presence=0.0), NormalizedLandmark(x=0.3705858886241913, y=0.49308571219444275, z=-0.016194095835089684, visibility=0.0, presence=0.0), NormalizedLandmark(x=0.36978352069854736, y=0.337851345539093, z=-0.033925894647836685, visibility=0.0, presence=0.0), NormalizedLandmark(x=0.3737684488296509, y=0.24491068720817566, z=-0.05753738433122635, visibility=0.0, presence=0.0), NormalizedLandmark(x=0.38244783878326416, y=0.16030067205429077, z=-0.07695646584033966, visibility=0.0, presence=0.0), NormalizedLandmark(x=0.32161056995391846, y=0.5347315669059753, z=-0.026831071823835373, visibility=0.0, presence=0.0), NormalizedLandmark(x=0.3199617862701416, y=0.4236529469490051, z=-0.04869943857192993, visibility=0.0, presence=0.0), NormalizedLandmark(x=0.3255203366279602, y=0.35057348012924194, z=-0.06464425474405289, visibility=0.0, presence=0.0), NormalizedLandmark(x=0.3385085463523865, y=0.2785510718822479, z=-0.07791385799646378, visibility=0.0, presence=0.0)]], hand_world_landmarks=[[Landmark(x=-0.02680274099111557, y=0.077143095433712, z=0.0003139413893222809, visibility=0.0, presence=0.0), Landmark(x=0.006019366905093193, y=0.05741933733224869, z=-0.0032257288694381714, visibility=0.0, presence=0.0), Landmark(x=0.03766729682683945, y=0.04241468384861946, z=-0.0020200982689857483, visibility=0.0, presence=0.0), Landmark(x=0.06850031018257141, y=0.026499394327402115, z=0.005552127957344055, visibility=0.0, presence=0.0), Landmark(x=0.09124648571014404, y=0.011216402053833008, z=0.005010366439819336, visibility=0.0, presence=0.0), Landmark(x=0.02381369285285473, y=-0.0032729385420680046, z=0.00832502543926239, visibility=0.0, presence=0.0), Landmark(x=0.03604045882821083, y=-0.022553034126758575, z=0.004622127860784531, visibility=0.0, presence=0.0), Landmark(x=0.04332936182618141, y=-0.04216780140995979, z=-0.004613474011421204, visibility=0.0, presence=0.0), Landmark(x=0.04596515744924545, y=-0.059878237545490265, z=-0.03235325217247009, visibility=0.0, presence=0.0), Landmark(x=0.0019584964029490948, y=-0.0055962735787034035, z=0.006248138844966888, visibility=0.0, presence=0.0), Landmark(x=0.012102182023227215, y=-0.03475372493267059, z=-0.0015638545155525208, visibility=0.0, presence=0.0), Landmark(x=0.012601418420672417, y=-0.060041800141334534, z=-0.02035588026046753, visibility=0.0, presence=0.0), Landmark(x=0.019404076039791107, y=-0.07843813300132751, z=-0.04882374405860901, visibility=0.0, presence=0.0), Landmark(x=-0.014866948127746582, y=-0.0011380892246961594, z=-0.005502574145793915, visibility=0.0, presence=0.0), Landmark(x=-0.009015103802084923, y=-0.02795509248971939, z=-0.01557852327823639, visibility=0.0, presence=0.0), Landmark(x=-0.0064165666699409485, y=-0.04968118667602539, z=-0.03560161590576172, visibility=0.0, presence=0.0), Landmark(x=0.0034280214458703995, y=-0.06511709839105606, z=-0.06008526682853699, visibility=0.0, presence=0.0), Landmark(x=-0.033382054418325424, y=0.010709073394536972, z=-0.015417627990245819, visibility=0.0, presence=0.0), Landmark(x=-0.026706300675868988, y=-0.010624004527926445, z=-0.019292078912258148, visibility=0.0, presence=0.0), Landmark(x=-0.022508570924401283, y=-0.028994759544730186, z=-0.028645813465118408, visibility=0.0, presence=0.0), Landmark(x=-0.016739271581172943, y=-0.0473964549601078, z=-0.0431133434176445, visibility=0.0, presence=0.0)]])\n",
            "GestureRecognizerResult(gestures=[], handedness=[], hand_landmarks=[], hand_world_landmarks=[])\n",
            "GestureRecognizerResult(gestures=[[Category(index=-1, score=0.8293590545654297, display_name='', category_name='None')]], handedness=[[Category(index=0, score=0.999275267124176, display_name='Left', category_name='Left')]], hand_landmarks=[[NormalizedLandmark(x=0.38365745544433594, y=0.46574145555496216, z=2.7036770688937395e-07, visibility=0.0, presence=0.0), NormalizedLandmark(x=0.4320136308670044, y=0.477993905544281, z=-0.024072160944342613, visibility=0.0, presence=0.0), NormalizedLandmark(x=0.4639800488948822, y=0.48272907733917236, z=-0.057006075978279114, visibility=0.0, presence=0.0), NormalizedLandmark(x=0.48492804169654846, y=0.5081049799919128, z=-0.08964402973651886, visibility=0.0, presence=0.0), NormalizedLandmark(x=0.5049237012863159, y=0.5262956023216248, z=-0.12293694168329239, visibility=0.0, presence=0.0), NormalizedLandmark(x=0.47730398178100586, y=0.362839937210083, z=-0.08416558057069778, visibility=0.0, presence=0.0), NormalizedLandmark(x=0.5099019408226013, y=0.3989190459251404, z=-0.1344306766986847, visibility=0.0, presence=0.0), NormalizedLandmark(x=0.5173230767250061, y=0.4891345500946045, z=-0.1602335274219513, visibility=0.0, presence=0.0), NormalizedLandmark(x=0.5107406973838806, y=0.5482304692268372, z=-0.1728108674287796, visibility=0.0, presence=0.0), NormalizedLandmark(x=0.4342389702796936, y=0.34717798233032227, z=-0.09632300585508347, visibility=0.0, presence=0.0), NormalizedLandmark(x=0.4694916605949402, y=0.3676094710826874, z=-0.15064844489097595, visibility=0.0, presence=0.0), NormalizedLandmark(x=0.473420649766922, y=0.4783260226249695, z=-0.16862964630126953, visibility=0.0, presence=0.0), NormalizedLandmark(x=0.46358978748321533, y=0.5379464626312256, z=-0.17561885714530945, visibility=0.0, presence=0.0), NormalizedLandmark(x=0.39239710569381714, y=0.36295855045318604, z=-0.10859700292348862, visibility=0.0, presence=0.0), NormalizedLandmark(x=0.419064998626709, y=0.3689830005168915, z=-0.15997175872325897, visibility=0.0, presence=0.0), NormalizedLandmark(x=0.4305005967617035, y=0.4708026051521301, z=-0.16610637307167053, visibility=0.0, presence=0.0), NormalizedLandmark(x=0.4244134724140167, y=0.5254728198051453, z=-0.16241861879825592, visibility=0.0, presence=0.0), NormalizedLandmark(x=0.35605233907699585, y=0.39277198910713196, z=-0.12115499377250671, visibility=0.0, presence=0.0), NormalizedLandmark(x=0.3750305473804474, y=0.41716688871383667, z=-0.15779979526996613, visibility=0.0, presence=0.0), NormalizedLandmark(x=0.38994300365448, y=0.485962450504303, z=-0.1610478162765503, visibility=0.0, presence=0.0), NormalizedLandmark(x=0.3920791745185852, y=0.5252131819725037, z=-0.159081369638443, visibility=0.0, presence=0.0)]], hand_world_landmarks=[[Landmark(x=-0.02823716588318348, y=0.021607473492622375, z=0.06902794539928436, visibility=0.0, presence=0.0), Landmark(x=-0.004690706729888916, y=0.023800013586878777, z=0.05345165729522705, visibility=0.0, presence=0.0), Landmark(x=0.011790616437792778, y=0.028751160949468613, z=0.028376519680023193, visibility=0.0, presence=0.0), Landmark(x=0.016904432326555252, y=0.0360126867890358, z=-0.0024497732520103455, visibility=0.0, presence=0.0), Landmark(x=0.02839222550392151, y=0.040728818625211716, z=-0.027915969491004944, visibility=0.0, presence=0.0), Landmark(x=0.00933897029608488, y=-0.003958580084145069, z=0.006209149956703186, visibility=0.0, presence=0.0), Landmark(x=0.0241706520318985, y=0.012704702094197273, z=-0.006016328930854797, visibility=0.0, presence=0.0), Landmark(x=0.03323531150817871, y=0.03131791576743126, z=-0.0062659382820129395, visibility=0.0, presence=0.0), Landmark(x=0.032411668449640274, y=0.0441596657037735, z=-0.0068874359130859375, visibility=0.0, presence=0.0), Landmark(x=2.8935959562659264e-05, y=-0.004411281552165747, z=0.002286139875650406, visibility=0.0, presence=0.0), Landmark(x=0.012659888714551926, y=-0.0014508781023323536, z=-0.023868348449468613, visibility=0.0, presence=0.0), Landmark(x=0.020257139578461647, y=0.02199653722345829, z=-0.018189936876296997, visibility=0.0, presence=0.0), Landmark(x=0.016752488911151886, y=0.03524547815322876, z=-0.0006200075149536133, visibility=0.0, presence=0.0), Landmark(x=-0.007701292634010315, y=0.0010986223351210356, z=-0.005664154887199402, visibility=0.0, presence=0.0), Landmark(x=-0.005554798059165478, y=0.0015522049507126212, z=-0.027375057339668274, visibility=0.0, presence=0.0), Landmark(x=0.0033836918883025646, y=0.020890042185783386, z=-0.02678564190864563, visibility=0.0, presence=0.0), Landmark(x=0.0056490208953619, y=0.03496069088578224, z=-0.010467886924743652, visibility=0.0, presence=0.0), Landmark(x=-0.026055464521050453, y=0.008531520143151283, z=-0.004046425223350525, visibility=0.0, presence=0.0), Landmark(x=-0.02041592262685299, y=0.01295174565166235, z=-0.016000650823116302, visibility=0.0, presence=0.0), Landmark(x=-0.01288659404963255, y=0.026528019458055496, z=-0.01907786726951599, visibility=0.0, presence=0.0), Landmark(x=-0.012225772254168987, y=0.03408312052488327, z=-0.0006732940673828125, visibility=0.0, presence=0.0)]])\n",
            "GestureRecognizerResult(gestures=[], handedness=[], hand_landmarks=[], hand_world_landmarks=[])\n",
            "GestureRecognizerResult(gestures=[], handedness=[], hand_landmarks=[], hand_world_landmarks=[])\n",
            "GestureRecognizerResult(gestures=[], handedness=[], hand_landmarks=[], hand_world_landmarks=[])\n",
            "GestureRecognizerResult(gestures=[], handedness=[], hand_landmarks=[], hand_world_landmarks=[])\n",
            "GestureRecognizerResult(gestures=[], handedness=[], hand_landmarks=[], hand_world_landmarks=[])\n",
            "GestureRecognizerResult(gestures=[], handedness=[], hand_landmarks=[], hand_world_landmarks=[])\n",
            "GestureRecognizerResult(gestures=[], handedness=[], hand_landmarks=[], hand_world_landmarks=[])\n",
            "GestureRecognizerResult(gestures=[], handedness=[], hand_landmarks=[], hand_world_landmarks=[])\n",
            "GestureRecognizerResult(gestures=[], handedness=[], hand_landmarks=[], hand_world_landmarks=[])\n",
            "GestureRecognizerResult(gestures=[], handedness=[], hand_landmarks=[], hand_world_landmarks=[])\n",
            "GestureRecognizerResult(gestures=[], handedness=[], hand_landmarks=[], hand_world_landmarks=[])\n",
            "GestureRecognizerResult(gestures=[], handedness=[], hand_landmarks=[], hand_world_landmarks=[])\n",
            "GestureRecognizerResult(gestures=[], handedness=[], hand_landmarks=[], hand_world_landmarks=[])\n",
            "GestureRecognizerResult(gestures=[], handedness=[], hand_landmarks=[], hand_world_landmarks=[])\n",
            "GestureRecognizerResult(gestures=[], handedness=[], hand_landmarks=[], hand_world_landmarks=[])\n",
            "GestureRecognizerResult(gestures=[], handedness=[], hand_landmarks=[], hand_world_landmarks=[])\n",
            "GestureRecognizerResult(gestures=[], handedness=[], hand_landmarks=[], hand_world_landmarks=[])\n",
            "GestureRecognizerResult(gestures=[], handedness=[], hand_landmarks=[], hand_world_landmarks=[])\n",
            "GestureRecognizerResult(gestures=[], handedness=[], hand_landmarks=[], hand_world_landmarks=[])\n",
            "GestureRecognizerResult(gestures=[], handedness=[], hand_landmarks=[], hand_world_landmarks=[])\n",
            "GestureRecognizerResult(gestures=[], handedness=[], hand_landmarks=[], hand_world_landmarks=[])\n",
            "GestureRecognizerResult(gestures=[], handedness=[], hand_landmarks=[], hand_world_landmarks=[])\n",
            "GestureRecognizerResult(gestures=[[Category(index=-1, score=0.6558465361595154, display_name='', category_name='Thumb_Up')]], handedness=[[Category(index=0, score=0.6432651877403259, display_name='Left', category_name='Left')]], hand_landmarks=[[NormalizedLandmark(x=0.383796751499176, y=0.8311984539031982, z=1.734322125912513e-07, visibility=0.0, presence=0.0), NormalizedLandmark(x=0.3527470827102661, y=0.6678441762924194, z=-0.030697830021381378, visibility=0.0, presence=0.0), NormalizedLandmark(x=0.3133094906806946, y=0.5371840000152588, z=-0.028836898505687714, visibility=0.0, presence=0.0), NormalizedLandmark(x=0.2747204303741455, y=0.43391311168670654, z=-0.02613753080368042, visibility=0.0, presence=0.0), NormalizedLandmark(x=0.26381927728652954, y=0.34440499544143677, z=-0.023709040135145187, visibility=0.0, presence=0.0), NormalizedLandmark(x=0.31844639778137207, y=0.5736837983131409, z=0.0748569443821907, visibility=0.0, presence=0.0), NormalizedLandmark(x=0.2682649493217468, y=0.5473293662071228, z=0.10138662904500961, visibility=0.0, presence=0.0), NormalizedLandmark(x=0.2283608615398407, y=0.5452314615249634, z=0.10654432326555252, visibility=0.0, presence=0.0), NormalizedLandmark(x=0.20168685913085938, y=0.5448498129844666, z=0.10723745077848434, visibility=0.0, presence=0.0), NormalizedLandmark(x=0.3180593252182007, y=0.6524428129196167, z=0.09647616744041443, visibility=0.0, presence=0.0), NormalizedLandmark(x=0.25730666518211365, y=0.6325225830078125, z=0.1300945281982422, visibility=0.0, presence=0.0), NormalizedLandmark(x=0.21966329216957092, y=0.6366243362426758, z=0.12414497882127762, visibility=0.0, presence=0.0), NormalizedLandmark(x=0.19362643361091614, y=0.6399221420288086, z=0.11591491103172302, visibility=0.0, presence=0.0), NormalizedLandmark(x=0.3143587112426758, y=0.7129517197608948, z=0.10980133712291718, visibility=0.0, presence=0.0), NormalizedLandmark(x=0.26353347301483154, y=0.7001800537109375, z=0.13592185080051422, visibility=0.0, presence=0.0), NormalizedLandmark(x=0.23120495676994324, y=0.6872584819793701, z=0.12463833391666412, visibility=0.0, presence=0.0), NormalizedLandmark(x=0.20766645669937134, y=0.6747190356254578, z=0.11289256811141968, visibility=0.0, presence=0.0), NormalizedLandmark(x=0.31613337993621826, y=0.7575685977935791, z=0.11910778284072876, visibility=0.0, presence=0.0), NormalizedLandmark(x=0.2763879597187042, y=0.7521621584892273, z=0.14126336574554443, visibility=0.0, presence=0.0), NormalizedLandmark(x=0.25094836950302124, y=0.741766095161438, z=0.14110270142555237, visibility=0.0, presence=0.0), NormalizedLandmark(x=0.22973883152008057, y=0.7314897775650024, z=0.1385449767112732, visibility=0.0, presence=0.0)]], hand_world_landmarks=[[Landmark(x=0.04423743486404419, y=0.05018744245171547, z=-0.02067282795906067, visibility=0.0, presence=0.0), Landmark(x=0.028149912133812904, y=0.013075528666377068, z=-0.02523820847272873, visibility=0.0, presence=0.0), Landmark(x=0.01888636127114296, y=-0.028158966451883316, z=-0.011753261089324951, visibility=0.0, presence=0.0), Landmark(x=-0.00917443260550499, y=-0.05938626453280449, z=0.0027964115142822266, visibility=0.0, presence=0.0), Landmark(x=-0.020989080891013145, y=-0.08771874010562897, z=0.018225550651550293, visibility=0.0, presence=0.0), Landmark(x=-0.0003831752110272646, y=-0.022926731035113335, z=0.0014078468084335327, visibility=0.0, presence=0.0), Landmark(x=-0.019345341250300407, y=-0.030568981543183327, z=-0.0017457995563745499, visibility=0.0, presence=0.0), Landmark(x=-0.027620073407888412, y=-0.042934849858284, z=-0.0017402321100234985, visibility=0.0, presence=0.0), Landmark(x=-0.05114538222551346, y=-0.04323574900627136, z=-0.013422049582004547, visibility=0.0, presence=0.0), Landmark(x=-0.0005824037943966687, y=-0.002821588423103094, z=0.00289878249168396, visibility=0.0, presence=0.0), Landmark(x=-0.02074291743338108, y=-0.023059535771608353, z=-0.0020816773176193237, visibility=0.0, presence=0.0), Landmark(x=-0.03988836705684662, y=-0.021358255296945572, z=-0.01601618528366089, visibility=0.0, presence=0.0), Landmark(x=-0.05579444766044617, y=-0.02257358841598034, z=-0.030021101236343384, visibility=0.0, presence=0.0), Landmark(x=-0.003124367678537965, y=0.009619679301977158, z=-0.0015239715576171875, visibility=0.0, presence=0.0), Landmark(x=-0.020404722541570663, y=0.00032861833460628986, z=-0.010026134550571442, visibility=0.0, presence=0.0), Landmark(x=-0.030406039208173752, y=-0.0045339069329202175, z=-0.01604752242565155, visibility=0.0, presence=0.0), Landmark(x=-0.04653266817331314, y=-0.014855802990496159, z=-0.030954495072364807, visibility=0.0, presence=0.0), Landmark(x=-0.004265760071575642, y=0.033372871577739716, z=-0.004658982157707214, visibility=0.0, presence=0.0), Landmark(x=-0.01350440178066492, y=0.021274792030453682, z=-0.013390280306339264, visibility=0.0, presence=0.0), Landmark(x=-0.02716228738427162, y=0.015075260773301125, z=-0.017177239060401917, visibility=0.0, presence=0.0), Landmark(x=-0.0340568944811821, y=0.009039366617798805, z=-0.022337205708026886, visibility=0.0, presence=0.0)]])\n",
            "GestureRecognizerResult(gestures=[], handedness=[], hand_landmarks=[], hand_world_landmarks=[])\n",
            "GestureRecognizerResult(gestures=[], handedness=[], hand_landmarks=[], hand_world_landmarks=[])\n",
            "GestureRecognizerResult(gestures=[[Category(index=-1, score=0.9207677841186523, display_name='', category_name='None')]], handedness=[[Category(index=1, score=0.9385074973106384, display_name='Right', category_name='Right')]], hand_landmarks=[[NormalizedLandmark(x=0.4617065191268921, y=0.7618180513381958, z=5.789375734366331e-08, visibility=0.0, presence=0.0), NormalizedLandmark(x=0.43801188468933105, y=0.6197983026504517, z=-0.02900698408484459, visibility=0.0, presence=0.0), NormalizedLandmark(x=0.40175896883010864, y=0.4772012531757355, z=-0.047204647213220596, visibility=0.0, presence=0.0), NormalizedLandmark(x=0.36691537499427795, y=0.3584788739681244, z=-0.06391384452581406, visibility=0.0, presence=0.0), NormalizedLandmark(x=0.3571593761444092, y=0.26015251874923706, z=-0.08303038775920868, visibility=0.0, presence=0.0), NormalizedLandmark(x=0.40309956669807434, y=0.5153482556343079, z=-0.03545377403497696, visibility=0.0, presence=0.0), NormalizedLandmark(x=0.360179603099823, y=0.45599082112312317, z=-0.06993083655834198, visibility=0.0, presence=0.0), NormalizedLandmark(x=0.3328932821750641, y=0.4459135830402374, z=-0.09828899800777435, visibility=0.0, presence=0.0), NormalizedLandmark(x=0.3149287700653076, y=0.42403072118759155, z=-0.12093088775873184, visibility=0.0, presence=0.0), NormalizedLandmark(x=0.3978016674518585, y=0.6099505424499512, z=-0.04119796305894852, visibility=0.0, presence=0.0), NormalizedLandmark(x=0.33670735359191895, y=0.5971916317939758, z=-0.08608541637659073, visibility=0.0, presence=0.0), NormalizedLandmark(x=0.29553675651550293, y=0.6229172348976135, z=-0.12286926060914993, visibility=0.0, presence=0.0), NormalizedLandmark(x=0.26704955101013184, y=0.6252046227455139, z=-0.15099258720874786, visibility=0.0, presence=0.0), NormalizedLandmark(x=0.3924153447151184, y=0.7006374597549438, z=-0.04973373934626579, visibility=0.0, presence=0.0), NormalizedLandmark(x=0.33576545119285583, y=0.7094478607177734, z=-0.09444735199213028, visibility=0.0, presence=0.0), NormalizedLandmark(x=0.2923821210861206, y=0.7323328852653503, z=-0.12040523439645767, visibility=0.0, presence=0.0), NormalizedLandmark(x=0.2626402974128723, y=0.7341446876525879, z=-0.13782595098018646, visibility=0.0, presence=0.0), NormalizedLandmark(x=0.390057772397995, y=0.7796682715415955, z=-0.05928422138094902, visibility=0.0, presence=0.0), NormalizedLandmark(x=0.342602401971817, y=0.8107345104217529, z=-0.09595583379268646, visibility=0.0, presence=0.0), NormalizedLandmark(x=0.31196844577789307, y=0.8307137489318848, z=-0.11410034447908401, visibility=0.0, presence=0.0), NormalizedLandmark(x=0.2888491451740265, y=0.8315836191177368, z=-0.12708917260169983, visibility=0.0, presence=0.0)]], hand_world_landmarks=[[Landmark(x=0.02425776794552803, y=0.028259634971618652, z=0.04224503040313721, visibility=0.0, presence=0.0), Landmark(x=0.014707706868648529, y=0.0008018708322197199, z=0.03353455662727356, visibility=0.0, presence=0.0), Landmark(x=0.0061645712703466415, y=-0.025113020092248917, z=0.030229076743125916, visibility=0.0, presence=0.0), Landmark(x=-0.005709781777113676, y=-0.057013217359781265, z=0.029571376740932465, visibility=0.0, presence=0.0), Landmark(x=-0.009023168124258518, y=-0.08391540497541428, z=0.01913413405418396, visibility=0.0, presence=0.0), Landmark(x=-0.004144773818552494, y=-0.01845080778002739, z=0.002577155828475952, visibility=0.0, presence=0.0), Landmark(x=-0.007902815006673336, y=-0.026175718754529953, z=-0.004124807193875313, visibility=0.0, presence=0.0), Landmark(x=-0.02051764354109764, y=-0.03687896952033043, z=-0.006468251347541809, visibility=0.0, presence=0.0), Landmark(x=-0.03288072720170021, y=-0.04189033433794975, z=-0.008052438497543335, visibility=0.0, presence=0.0), Landmark(x=-0.0024346807040274143, y=-0.0027363840490579605, z=0.0023249946534633636, visibility=0.0, presence=0.0), Landmark(x=-0.020435132086277008, y=-0.00880736019462347, z=-0.0071971118450164795, visibility=0.0, presence=0.0), Landmark(x=-0.0405903123319149, y=-0.01026305090636015, z=-0.014826051890850067, visibility=0.0, presence=0.0), Landmark(x=-0.04817647114396095, y=-0.013328814879059792, z=-0.016207605600357056, visibility=0.0, presence=0.0), Landmark(x=-0.0002870613243430853, y=0.010841582901775837, z=-0.00442582368850708, visibility=0.0, presence=0.0), Landmark(x=-0.022477591410279274, y=0.00969330221414566, z=-0.0034179389476776123, visibility=0.0, presence=0.0), Landmark(x=-0.03806813061237335, y=0.007168841082602739, z=-0.0072523802518844604, visibility=0.0, presence=0.0), Landmark(x=-0.0461001917719841, y=0.008016029372811317, z=-0.012302160263061523, visibility=0.0, presence=0.0), Landmark(x=-0.0006816545501351357, y=0.030042771250009537, z=0.0011781416833400726, visibility=0.0, presence=0.0), Landmark(x=-0.014173036441206932, y=0.02761879935860634, z=0.0031877607107162476, visibility=0.0, presence=0.0), Landmark(x=-0.026830703020095825, y=0.02901027910411358, z=0.0023050904273986816, visibility=0.0, presence=0.0), Landmark(x=-0.03749377280473709, y=0.03151730075478554, z=0.0015854984521865845, visibility=0.0, presence=0.0)]])\n",
            "GestureRecognizerResult(gestures=[], handedness=[], hand_landmarks=[], hand_world_landmarks=[])\n",
            "GestureRecognizerResult(gestures=[], handedness=[], hand_landmarks=[], hand_world_landmarks=[])\n",
            "GestureRecognizerResult(gestures=[], handedness=[], hand_landmarks=[], hand_world_landmarks=[])\n",
            "GestureRecognizerResult(gestures=[], handedness=[], hand_landmarks=[], hand_world_landmarks=[])\n",
            "GestureRecognizerResult(gestures=[], handedness=[], hand_landmarks=[], hand_world_landmarks=[])\n",
            "GestureRecognizerResult(gestures=[], handedness=[], hand_landmarks=[], hand_world_landmarks=[])\n",
            "GestureRecognizerResult(gestures=[[Category(index=-1, score=0.7972301840782166, display_name='', category_name='Thumb_Up')]], handedness=[[Category(index=1, score=0.5555733442306519, display_name='Right', category_name='Right')]], hand_landmarks=[[NormalizedLandmark(x=0.4744357168674469, y=0.790113627910614, z=1.4337637743722098e-08, visibility=0.0, presence=0.0), NormalizedLandmark(x=0.4781975746154785, y=0.621060848236084, z=-0.006147370673716068, visibility=0.0, presence=0.0), NormalizedLandmark(x=0.44275742769241333, y=0.4618070423603058, z=-0.010784071870148182, visibility=0.0, presence=0.0), NormalizedLandmark(x=0.40644827485084534, y=0.3322848081588745, z=-0.018984034657478333, visibility=0.0, presence=0.0), NormalizedLandmark(x=0.39684438705444336, y=0.235576331615448, z=-0.025364777073264122, visibility=0.0, presence=0.0), NormalizedLandmark(x=0.38784924149513245, y=0.501227617263794, z=0.024592554196715355, visibility=0.0, presence=0.0), NormalizedLandmark(x=0.35304149985313416, y=0.4683796465396881, z=0.010457560420036316, visibility=0.0, presence=0.0), NormalizedLandmark(x=0.3733352720737457, y=0.5043227076530457, z=-0.0021526585333049297, visibility=0.0, presence=0.0), NormalizedLandmark(x=0.3829980790615082, y=0.5286723971366882, z=-0.011022263206541538, visibility=0.0, presence=0.0), NormalizedLandmark(x=0.3821692168712616, y=0.5941213965415955, z=0.015129370614886284, visibility=0.0, presence=0.0), NormalizedLandmark(x=0.3403724730014801, y=0.5622485280036926, z=-0.005674947518855333, visibility=0.0, presence=0.0), NormalizedLandmark(x=0.37712281942367554, y=0.6079843044281006, z=-0.02592543698847294, visibility=0.0, presence=0.0), NormalizedLandmark(x=0.39062660932540894, y=0.6432732343673706, z=-0.039568524807691574, visibility=0.0, presence=0.0), NormalizedLandmark(x=0.3782234489917755, y=0.6885110139846802, z=0.0026570947375148535, visibility=0.0, presence=0.0), NormalizedLandmark(x=0.34551891684532166, y=0.6691771149635315, z=-0.015244525857269764, visibility=0.0, presence=0.0), NormalizedLandmark(x=0.382238507270813, y=0.6970998048782349, z=-0.01987399533390999, visibility=0.0, presence=0.0), NormalizedLandmark(x=0.39992454648017883, y=0.7249351739883423, z=-0.02304019220173359, visibility=0.0, presence=0.0), NormalizedLandmark(x=0.38101452589035034, y=0.7738345861434937, z=-0.01018044725060463, visibility=0.0, presence=0.0), NormalizedLandmark(x=0.35413986444473267, y=0.7671441435813904, z=-0.01888185180723667, visibility=0.0, presence=0.0), NormalizedLandmark(x=0.3830128312110901, y=0.7753686904907227, z=-0.016437465324997902, visibility=0.0, presence=0.0), NormalizedLandmark(x=0.4009782075881958, y=0.7855319976806641, z=-0.014957282692193985, visibility=0.0, presence=0.0)]], hand_world_landmarks=[[Landmark(x=0.03481695428490639, y=0.0324460007250309, z=0.04002891480922699, visibility=0.0, presence=0.0), Landmark(x=0.034718673676252365, y=0.0005742725916206837, z=0.03055015206336975, visibility=0.0, presence=0.0), Landmark(x=0.02835678867995739, y=-0.02911672368645668, z=0.03014051914215088, visibility=0.0, presence=0.0), Landmark(x=0.013022604398429394, y=-0.060402341187000275, z=0.023105546832084656, visibility=0.0, presence=0.0), Landmark(x=0.010157739743590355, y=-0.0885767787694931, z=0.016999125480651855, visibility=0.0, presence=0.0), Landmark(x=0.001103490125387907, y=-0.01869526132941246, z=0.0049214959144592285, visibility=0.0, presence=0.0), Landmark(x=-0.004591218661516905, y=-0.02484249696135521, z=-0.003619799390435219, visibility=0.0, presence=0.0), Landmark(x=0.00016119563952088356, y=-0.025509286671876907, z=0.0012748688459396362, visibility=0.0, presence=0.0), Landmark(x=-0.00033501326106488705, y=-0.017353605479002, z=0.01820574700832367, visibility=0.0, presence=0.0), Landmark(x=-0.0028103021904826164, y=-0.0014032546896487474, z=0.0029411092400550842, visibility=0.0, presence=0.0), Landmark(x=-0.015699684619903564, y=-0.015859248116612434, z=-0.013583920896053314, visibility=0.0, presence=0.0), Landmark(x=-0.00821242667734623, y=-0.00920884683728218, z=-0.014774739742279053, visibility=0.0, presence=0.0), Landmark(x=-7.3980772867798805e-06, y=-0.006907772738486528, z=0.0024808496236801147, visibility=0.0, presence=0.0), Landmark(x=-0.0016006040386855602, y=0.010508287698030472, z=-0.004710078239440918, visibility=0.0, presence=0.0), Landmark(x=-0.01458208542317152, y=0.0005408239085227251, z=-0.012855321168899536, visibility=0.0, presence=0.0), Landmark(x=-0.001957479864358902, y=0.0007359472801908851, z=-0.012730717658996582, visibility=0.0, presence=0.0), Landmark(x=0.010228972882032394, y=0.006969619542360306, z=-0.00522257387638092, visibility=0.0, presence=0.0), Landmark(x=-0.0005972385406494141, y=0.02911791205406189, z=-0.001634851098060608, visibility=0.0, presence=0.0), Landmark(x=-0.010795344598591328, y=0.025368303060531616, z=-0.006169579923152924, visibility=0.0, presence=0.0), Landmark(x=-0.002897726371884346, y=0.019922863692045212, z=-0.007046014070510864, visibility=0.0, presence=0.0), Landmark(x=0.009990429505705833, y=0.021969933062791824, z=-0.003625817596912384, visibility=0.0, presence=0.0)]])\n",
            "GestureRecognizerResult(gestures=[], handedness=[], hand_landmarks=[], hand_world_landmarks=[])\n",
            "GestureRecognizerResult(gestures=[], handedness=[], hand_landmarks=[], hand_world_landmarks=[])\n",
            "GestureRecognizerResult(gestures=[], handedness=[], hand_landmarks=[], hand_world_landmarks=[])\n",
            "GestureRecognizerResult(gestures=[], handedness=[], hand_landmarks=[], hand_world_landmarks=[])\n",
            "GestureRecognizerResult(gestures=[], handedness=[], hand_landmarks=[], hand_world_landmarks=[])\n",
            "GestureRecognizerResult(gestures=[], handedness=[], hand_landmarks=[], hand_world_landmarks=[])\n",
            "GestureRecognizerResult(gestures=[], handedness=[], hand_landmarks=[], hand_world_landmarks=[])\n",
            "GestureRecognizerResult(gestures=[[Category(index=-1, score=0.7578158974647522, display_name='', category_name='Thumb_Up')]], handedness=[[Category(index=1, score=0.8434743881225586, display_name='Right', category_name='Right')]], hand_landmarks=[[NormalizedLandmark(x=0.44396132230758667, y=0.7888413667678833, z=-1.5152414789554314e-07, visibility=0.0, presence=0.0), NormalizedLandmark(x=0.4413003623485565, y=0.6348819732666016, z=-0.016656335443258286, visibility=0.0, presence=0.0), NormalizedLandmark(x=0.40487930178642273, y=0.48651453852653503, z=-0.022984139621257782, visibility=0.0, presence=0.0), NormalizedLandmark(x=0.36602336168289185, y=0.3611277639865875, z=-0.02919706329703331, visibility=0.0, presence=0.0), NormalizedLandmark(x=0.3511994183063507, y=0.2646980881690979, z=-0.03197377547621727, visibility=0.0, presence=0.0), NormalizedLandmark(x=0.38026320934295654, y=0.5120658874511719, z=0.015888957306742668, visibility=0.0, presence=0.0), NormalizedLandmark(x=0.31155452132225037, y=0.4763440191745758, z=0.0011510748881846666, visibility=0.0, presence=0.0), NormalizedLandmark(x=0.32575324177742004, y=0.5278262495994568, z=-0.009604468010365963, visibility=0.0, presence=0.0), NormalizedLandmark(x=0.3432994484901428, y=0.5536882281303406, z=-0.016447465866804123, visibility=0.0, presence=0.0), NormalizedLandmark(x=0.3743079602718353, y=0.603456974029541, z=0.01495498325675726, visibility=0.0, presence=0.0), NormalizedLandmark(x=0.29197874665260315, y=0.5608800649642944, z=-0.0024959631264209747, visibility=0.0, presence=0.0), NormalizedLandmark(x=0.32243630290031433, y=0.6243687868118286, z=-0.01760033890604973, visibility=0.0, presence=0.0), NormalizedLandmark(x=0.3422316908836365, y=0.655758261680603, z=-0.027644624933600426, visibility=0.0, presence=0.0), NormalizedLandmark(x=0.3632300794124603, y=0.6937785148620605, z=0.010450153611600399, visibility=0.0, presence=0.0), NormalizedLandmark(x=0.2953706383705139, y=0.6719362735748291, z=-0.005981575697660446, visibility=0.0, presence=0.0), NormalizedLandmark(x=0.32662010192871094, y=0.7182073593139648, z=-0.005062151700258255, visibility=0.0, presence=0.0), NormalizedLandmark(x=0.35111311078071594, y=0.7462103366851807, z=-0.0039035745430737734, visibility=0.0, presence=0.0), NormalizedLandmark(x=0.35815396904945374, y=0.7768462896347046, z=0.004831856116652489, visibility=0.0, presence=0.0), NormalizedLandmark(x=0.30629122257232666, y=0.772904634475708, z=-0.0012956709833815694, visibility=0.0, presence=0.0), NormalizedLandmark(x=0.3295521140098572, y=0.7940897941589355, z=0.005502351559698582, visibility=0.0, presence=0.0), NormalizedLandmark(x=0.3513435423374176, y=0.8080018162727356, z=0.010767935775220394, visibility=0.0, presence=0.0)]], hand_world_landmarks=[[Landmark(x=0.03321599215269089, y=0.03666792809963226, z=0.03702199459075928, visibility=0.0, presence=0.0), Landmark(x=0.030484749004244804, y=0.0033542150631546974, z=0.026848942041397095, visibility=0.0, presence=0.0), Landmark(x=0.022535817697644234, y=-0.028131309896707535, z=0.027636006474494934, visibility=0.0, presence=0.0), Landmark(x=0.0011786902323365211, y=-0.059439387172460556, z=0.0175526961684227, visibility=0.0, presence=0.0), Landmark(x=-0.005502859130501747, y=-0.0838140994310379, z=0.015051677823066711, visibility=0.0, presence=0.0), Landmark(x=0.003377695567905903, y=-0.02150638774037361, z=0.0050392746925354, visibility=0.0, presence=0.0), Landmark(x=-0.013395670801401138, y=-0.026294667273759842, z=-0.0019248127937316895, visibility=0.0, presence=0.0), Landmark(x=-0.014551863074302673, y=-0.024894217029213905, z=0.004945896565914154, visibility=0.0, presence=0.0), Landmark(x=-0.008975904434919357, y=-0.01812155358493328, z=0.027828991413116455, visibility=0.0, presence=0.0), Landmark(x=-0.0016588845755904913, y=-0.002188759855926037, z=0.0034161582589149475, visibility=0.0, presence=0.0), Landmark(x=-0.026283299550414085, y=-0.01677672192454338, z=-0.011720143258571625, visibility=0.0, presence=0.0), Landmark(x=-0.02343919686973095, y=-0.007050180342048407, z=-0.0031617581844329834, visibility=0.0, presence=0.0), Landmark(x=-0.011899370700120926, y=-0.006556231062859297, z=0.017322629690170288, visibility=0.0, presence=0.0), Landmark(x=-0.0009073747787624598, y=0.012324031442403793, z=-0.005265355110168457, visibility=0.0, presence=0.0), Landmark(x=-0.02523934282362461, y=0.0037406464107334614, z=-0.009339846670627594, visibility=0.0, presence=0.0), Landmark(x=-0.01738932356238365, y=0.0052635204046964645, z=-0.0010428279638290405, visibility=0.0, presence=0.0), Landmark(x=-0.0031754719093441963, y=0.012391872704029083, z=0.013437911868095398, visibility=0.0, presence=0.0), Landmark(x=-0.002674255520105362, y=0.0327390693128109, z=-0.002789873629808426, visibility=0.0, presence=0.0), Landmark(x=-0.02224373072385788, y=0.029915794730186462, z=-0.003077588975429535, visibility=0.0, presence=0.0), Landmark(x=-0.01526627130806446, y=0.027218790724873543, z=0.0018198192119598389, visibility=0.0, presence=0.0), Landmark(x=-0.0015922775492072105, y=0.030697310343384743, z=0.009855151176452637, visibility=0.0, presence=0.0)]])\n",
            "GestureRecognizerResult(gestures=[], handedness=[], hand_landmarks=[], hand_world_landmarks=[])\n",
            "GestureRecognizerResult(gestures=[], handedness=[], hand_landmarks=[], hand_world_landmarks=[])\n",
            "GestureRecognizerResult(gestures=[], handedness=[], hand_landmarks=[], hand_world_landmarks=[])\n",
            "GestureRecognizerResult(gestures=[], handedness=[], hand_landmarks=[], hand_world_landmarks=[])\n",
            "GestureRecognizerResult(gestures=[], handedness=[], hand_landmarks=[], hand_world_landmarks=[])\n",
            "GestureRecognizerResult(gestures=[], handedness=[], hand_landmarks=[], hand_world_landmarks=[])\n",
            "GestureRecognizerResult(gestures=[], handedness=[], hand_landmarks=[], hand_world_landmarks=[])\n",
            "GestureRecognizerResult(gestures=[], handedness=[], hand_landmarks=[], hand_world_landmarks=[])\n",
            "GestureRecognizerResult(gestures=[], handedness=[], hand_landmarks=[], hand_world_landmarks=[])\n",
            "GestureRecognizerResult(gestures=[], handedness=[], hand_landmarks=[], hand_world_landmarks=[])\n",
            "GestureRecognizerResult(gestures=[], handedness=[], hand_landmarks=[], hand_world_landmarks=[])\n",
            "GestureRecognizerResult(gestures=[], handedness=[], hand_landmarks=[], hand_world_landmarks=[])\n",
            "GestureRecognizerResult(gestures=[], handedness=[], hand_landmarks=[], hand_world_landmarks=[])\n",
            "GestureRecognizerResult(gestures=[], handedness=[], hand_landmarks=[], hand_world_landmarks=[])\n",
            "GestureRecognizerResult(gestures=[], handedness=[], hand_landmarks=[], hand_world_landmarks=[])\n"
          ]
        },
        {
          "ename": "KeyboardInterrupt",
          "evalue": "",
          "output_type": "error",
          "traceback": [
            "\u001b[0;31m---------------------------------------------------------------------------\u001b[0m",
            "\u001b[0;31mKeyboardInterrupt\u001b[0m                         Traceback (most recent call last)",
            "\u001b[0;32m/var/folders/kb/jbssx63s08b6fkcjls82t4dh0000gn/T/ipykernel_19246/927806245.py\u001b[0m in \u001b[0;36m<module>\u001b[0;34m\u001b[0m\n\u001b[1;32m     14\u001b[0m         \u001b[0;31m# Display the resulting frame\u001b[0m\u001b[0;34m\u001b[0m\u001b[0;34m\u001b[0m\u001b[0m\n\u001b[1;32m     15\u001b[0m         \u001b[0mcv2\u001b[0m\u001b[0;34m.\u001b[0m\u001b[0mimshow\u001b[0m\u001b[0;34m(\u001b[0m\u001b[0;34m'frame'\u001b[0m\u001b[0;34m,\u001b[0m \u001b[0mframe\u001b[0m\u001b[0;34m)\u001b[0m\u001b[0;34m\u001b[0m\u001b[0;34m\u001b[0m\u001b[0m\n\u001b[0;32m---> 16\u001b[0;31m         \u001b[0mres\u001b[0m \u001b[0;34m=\u001b[0m \u001b[0mprediction\u001b[0m\u001b[0;34m(\u001b[0m\u001b[0mrecognizer\u001b[0m\u001b[0;34m,\u001b[0m \u001b[0mframe\u001b[0m\u001b[0;34m)\u001b[0m\u001b[0;34m\u001b[0m\u001b[0;34m\u001b[0m\u001b[0m\n\u001b[0m\u001b[1;32m     17\u001b[0m         \u001b[0;32mif\u001b[0m \u001b[0mcv2\u001b[0m\u001b[0;34m.\u001b[0m\u001b[0mwaitKey\u001b[0m\u001b[0;34m(\u001b[0m\u001b[0;36m1\u001b[0m\u001b[0;34m)\u001b[0m \u001b[0;34m&\u001b[0m \u001b[0;36m0xFF\u001b[0m \u001b[0;34m==\u001b[0m \u001b[0mord\u001b[0m\u001b[0;34m(\u001b[0m\u001b[0;34m'q'\u001b[0m\u001b[0;34m)\u001b[0m\u001b[0;34m:\u001b[0m\u001b[0;34m\u001b[0m\u001b[0;34m\u001b[0m\u001b[0m\n\u001b[1;32m     18\u001b[0m                 \u001b[0;32mbreak\u001b[0m\u001b[0;34m\u001b[0m\u001b[0;34m\u001b[0m\u001b[0m\n",
            "\u001b[0;32m/var/folders/kb/jbssx63s08b6fkcjls82t4dh0000gn/T/ipykernel_19246/2699364685.py\u001b[0m in \u001b[0;36mprediction\u001b[0;34m(recognizer, image)\u001b[0m\n\u001b[1;32m      3\u001b[0m     \u001b[0mim\u001b[0m\u001b[0;34m.\u001b[0m\u001b[0msave\u001b[0m\u001b[0;34m(\u001b[0m\u001b[0mos\u001b[0m\u001b[0;34m.\u001b[0m\u001b[0mgetcwd\u001b[0m\u001b[0;34m(\u001b[0m\u001b[0;34m)\u001b[0m\u001b[0;34m+\u001b[0m\u001b[0;34m\"/your_file.jpeg\"\u001b[0m\u001b[0;34m)\u001b[0m\u001b[0;34m\u001b[0m\u001b[0;34m\u001b[0m\u001b[0m\n\u001b[1;32m      4\u001b[0m     \u001b[0mimage\u001b[0m \u001b[0;34m=\u001b[0m \u001b[0mmp\u001b[0m\u001b[0;34m.\u001b[0m\u001b[0mImage\u001b[0m\u001b[0;34m.\u001b[0m\u001b[0mcreate_from_file\u001b[0m\u001b[0;34m(\u001b[0m\u001b[0;34m\"your_file.jpeg\"\u001b[0m\u001b[0;34m)\u001b[0m\u001b[0;34m\u001b[0m\u001b[0;34m\u001b[0m\u001b[0m\n\u001b[0;32m----> 5\u001b[0;31m     \u001b[0mrecognition_result\u001b[0m \u001b[0;34m=\u001b[0m \u001b[0mrecognizer\u001b[0m\u001b[0;34m.\u001b[0m\u001b[0mrecognize\u001b[0m\u001b[0;34m(\u001b[0m\u001b[0mimage\u001b[0m\u001b[0;34m)\u001b[0m\u001b[0;34m\u001b[0m\u001b[0;34m\u001b[0m\u001b[0m\n\u001b[0m\u001b[1;32m      6\u001b[0m     \u001b[0;31m#Parte da fixare\u001b[0m\u001b[0;34m\u001b[0m\u001b[0;34m\u001b[0m\u001b[0m\n\u001b[1;32m      7\u001b[0m     \u001b[0mprint\u001b[0m\u001b[0;34m(\u001b[0m\u001b[0mrecognition_result\u001b[0m\u001b[0;34m)\u001b[0m\u001b[0;34m\u001b[0m\u001b[0;34m\u001b[0m\u001b[0m\n",
            "\u001b[0;32m~/opt/anaconda3/lib/python3.9/site-packages/mediapipe/tasks/python/vision/gesture_recognizer.py\u001b[0m in \u001b[0;36mrecognize\u001b[0;34m(self, image, image_processing_options)\u001b[0m\n\u001b[1;32m    327\u001b[0m     normalized_rect = self.convert_to_normalized_rect(\n\u001b[1;32m    328\u001b[0m         image_processing_options, roi_allowed=False)\n\u001b[0;32m--> 329\u001b[0;31m     output_packets = self._process_image_data({\n\u001b[0m\u001b[1;32m    330\u001b[0m         \u001b[0m_IMAGE_IN_STREAM_NAME\u001b[0m\u001b[0;34m:\u001b[0m\u001b[0;34m\u001b[0m\u001b[0;34m\u001b[0m\u001b[0m\n\u001b[1;32m    331\u001b[0m             \u001b[0mpacket_creator\u001b[0m\u001b[0;34m.\u001b[0m\u001b[0mcreate_image\u001b[0m\u001b[0;34m(\u001b[0m\u001b[0mimage\u001b[0m\u001b[0;34m)\u001b[0m\u001b[0;34m,\u001b[0m\u001b[0;34m\u001b[0m\u001b[0;34m\u001b[0m\u001b[0m\n",
            "\u001b[0;32m~/opt/anaconda3/lib/python3.9/site-packages/mediapipe/tasks/python/vision/core/base_vision_task_api.py\u001b[0m in \u001b[0;36m_process_image_data\u001b[0;34m(self, inputs)\u001b[0m\n\u001b[1;32m     87\u001b[0m           \u001b[0;34m'Task is not initialized with the image mode. Current running mode:'\u001b[0m \u001b[0;34m+\u001b[0m\u001b[0;34m\u001b[0m\u001b[0;34m\u001b[0m\u001b[0m\n\u001b[1;32m     88\u001b[0m           self._running_mode.name)\n\u001b[0;32m---> 89\u001b[0;31m     \u001b[0;32mreturn\u001b[0m \u001b[0mself\u001b[0m\u001b[0;34m.\u001b[0m\u001b[0m_runner\u001b[0m\u001b[0;34m.\u001b[0m\u001b[0mprocess\u001b[0m\u001b[0;34m(\u001b[0m\u001b[0minputs\u001b[0m\u001b[0;34m)\u001b[0m\u001b[0;34m\u001b[0m\u001b[0;34m\u001b[0m\u001b[0m\n\u001b[0m\u001b[1;32m     90\u001b[0m \u001b[0;34m\u001b[0m\u001b[0m\n\u001b[1;32m     91\u001b[0m   def _process_video_data(\n",
            "\u001b[0;31mKeyboardInterrupt\u001b[0m: "
          ]
        }
      ],
      "source": [
        "# import the opencv library\n",
        "import cv2\n",
        "\n",
        "base_options = python.BaseOptions(model_asset_path='gesture_recognizer.task')\n",
        "options = vision.GestureRecognizerOptions(base_options=base_options)\n",
        "recognizer = vision.GestureRecognizer.create_from_options(options)\n",
        "  \n",
        "vid = cv2.VideoCapture(0)\n",
        "\n",
        "while(True):\n",
        "\t\n",
        "\tret, frame = vid.read()\n",
        "\n",
        "\t# Display the resulting frame\n",
        "\tcv2.imshow('frame', frame)\n",
        "\tres = prediction(recognizer, frame)\n",
        "\tif cv2.waitKey(1) & 0xFF == ord('q'):\n",
        "\t\tbreak\n",
        "\n",
        "# After the loop release the cap object\n",
        "vid.release()\n",
        "# Destroy all the windows\n",
        "cv2.destroyAllWindows()\n"
      ]
    }
  ],
  "metadata": {
    "colab": {
      "provenance": []
    },
    "kernelspec": {
      "display_name": "Python 3.11.3 ('envPython')",
      "language": "python",
      "name": "python3"
    },
    "language_info": {
      "codemirror_mode": {
        "name": "ipython",
        "version": 3
      },
      "file_extension": ".py",
      "mimetype": "text/x-python",
      "name": "python",
      "nbconvert_exporter": "python",
      "pygments_lexer": "ipython3",
      "version": "3.9.13"
    },
    "vscode": {
      "interpreter": {
        "hash": "8d494ed7d4806bc261574c8ca4ab2863058c7c768402083cfa7f6e055c47e6ba"
      }
    }
  },
  "nbformat": 4,
  "nbformat_minor": 0
}
