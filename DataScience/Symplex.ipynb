{
  "nbformat": 4,
  "nbformat_minor": 0,
  "metadata": {
    "colab": {
      "provenance": [],
      "collapsed_sections": [],
      "authorship_tag": "ABX9TyPkJBtIf4J67xsfhZR180Vo",
      "include_colab_link": true
    },
    "kernelspec": {
      "name": "python3",
      "display_name": "Python 3"
    },
    "language_info": {
      "name": "python"
    }
  },
  "cells": [
    {
      "cell_type": "markdown",
      "metadata": {
        "id": "view-in-github",
        "colab_type": "text"
      },
      "source": [
        "<a href=\"https://colab.research.google.com/github/VinciGit00/Python/blob/main/DataScience/Symplex.ipynb\" target=\"_parent\"><img src=\"https://colab.research.google.com/assets/colab-badge.svg\" alt=\"Open In Colab\"/></a>"
      ]
    },
    {
      "cell_type": "markdown",
      "source": [
        "#Simplex method\n",
        "References:  <br/>\n",
        "\n",
        "<ol>\n",
        "  <li> <a href=\"https://www.youtube.com/watch?v=E8WlydM8uvU\">Youtube link<a> </li>\n",
        "  <li> <a href=\"https://docs.scipy.org/doc/scipy/reference/generated/scipy.optimize.linprog.html\">Documentation <a></li>\n",
        "</ol>\n",
        "\n",
        "##Problem: <br/>\n",
        "Minimize -z = -2x -y <br/>\n",
        "2y + x <= 22 <br/>\n",
        "-5y +4x <= 15 <br/>\n",
        "-y +4x <= 12 <br/>\n",
        "-y +4x = 16 <br/>\n",
        "x > = 0 <br/>\n",
        "y > = 0 <br/>\n",
        "Osservazione: non viene ammesso >=, quindi bisogna fare degli aggiustamenti\n",
        "\n"
      ],
      "metadata": {
        "id": "dgFS8ovwMRqi"
      }
    },
    {
      "cell_type": "code",
      "source": [
        "from scipy.optimize import linprog"
      ],
      "metadata": {
        "id": "dxmKmNlpLpKr"
      },
      "execution_count": null,
      "outputs": []
    },
    {
      "cell_type": "code",
      "source": [
        "obj = [-2 , -1] #coeffiecienti dell'obiettivo al secondo membr\n",
        "lhs = [[2,1], [-5,4], [-1, 4]] #coefficienti del primo membro della disequazione\n",
        "rhs = [22, 15, 12] #coefficienti dei termini noti della disuguaglianza\n",
        "lhs_eq = [[-1, 4]] #Coefficienti dell'equazione\n",
        "rhs_eq = [16] #secondo membro dell'equazione di uguaglianza\n"
      ],
      "metadata": {
        "id": "fAgFcGvkNv5K"
      },
      "execution_count": null,
      "outputs": []
    },
    {
      "cell_type": "code",
      "source": [
        "#Limite della x e della y\n",
        "bnd = [(0, float('inf')),(0,float('inf'))]"
      ],
      "metadata": {
        "id": "x2cHqHxsOuxb"
      },
      "execution_count": null,
      "outputs": []
    },
    {
      "cell_type": "code",
      "source": [
        "optimization = linprog( c = obj, A_ub=lhs, b_ub = rhs,\n",
        "                       A_eq = lhs_eq, b_eq = rhs_eq, \n",
        "                       bounds = bnd, method = 'simplex' )\n",
        "optimization"
      ],
      "metadata": {
        "colab": {
          "base_uri": "https://localhost:8080/"
        },
        "id": "IKFYHgsjPp22",
        "outputId": "d55925f4-4920-4f3c-a6d3-cb68cde698fc"
      },
      "execution_count": null,
      "outputs": [
        {
          "output_type": "execute_result",
          "data": {
            "text/plain": [
              "     con: array([4.])\n",
              "     fun: -3.0\n",
              " message: \"Phase 1 of the simplex method failed to find a feasible solution. The pseudo-objective function evaluates to 4.0e+00 which exceeds the required tolerance of 1e-09 for a solution to be considered 'close enough' to zero to be a basic solution. Consider increasing the tolerance to be greater than 4.0e+00. If this tolerance is unacceptably  large the problem may be infeasible.\"\n",
              "     nit: 3\n",
              "   slack: array([19.,  3.,  0.])\n",
              "  status: 2\n",
              " success: False\n",
              "       x: array([0., 3.])"
            ]
          },
          "metadata": {},
          "execution_count": 14
        }
      ]
    },
    {
      "cell_type": "code",
      "source": [
        "optimization = linprog( c = obj, A_ub=lhs, b_ub = rhs,\n",
        "                       bounds = bnd )\n",
        "optimization"
      ],
      "metadata": {
        "colab": {
          "base_uri": "https://localhost:8080/"
        },
        "id": "BMy8kEb8Q5cl",
        "outputId": "28a3ff43-092a-4908-dcaf-fac6836e951c"
      },
      "execution_count": null,
      "outputs": [
        {
          "output_type": "execute_result",
          "data": {
            "text/plain": [
              "     con: array([], dtype=float64)\n",
              "     fun: -21.999999999314905\n",
              " message: 'Optimization terminated successfully.'\n",
              "     nit: 5\n",
              "   slack: array([6.85094648e-10, 4.31103587e+01, 4.38409446e+00])\n",
              "  status: 0\n",
              " success: True\n",
              "       x: array([8.93156605, 4.1368679 ])"
            ]
          },
          "metadata": {},
          "execution_count": 17
        }
      ]
    }
  ]
}