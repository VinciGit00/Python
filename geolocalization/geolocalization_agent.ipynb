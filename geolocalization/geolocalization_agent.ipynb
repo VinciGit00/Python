{
 "cells": [
  {
   "cell_type": "code",
   "execution_count": 1,
   "metadata": {},
   "outputs": [],
   "source": [
    "import os, getpass\n",
    "\n",
    "def _set_env(var: str):\n",
    "    if not os.environ.get(var):\n",
    "        os.environ[var] = getpass.getpass(f\"{var}: \")\n",
    "\n",
    "_set_env(\"OPENAI_API_KEY\")"
   ]
  },
  {
   "cell_type": "code",
   "execution_count": 2,
   "metadata": {},
   "outputs": [],
   "source": [
    "from geopy.geocoders import Nominatim\n",
    "from geopy.distance import distance\n",
    "from typing import Optional"
   ]
  },
  {
   "cell_type": "code",
   "execution_count": 3,
   "metadata": {},
   "outputs": [],
   "source": [
    "def locate_and_offset(\n",
    "    location_text: Optional[str] = None,\n",
    "    offset_miles: Optional[float] = None,\n",
    "    offset_direction: Optional[str] = None\n",
    ") -> dict:\n",
    "    \"\"\"Process location from photo/text and compute optional offset.\"\"\"\n",
    "    geolocator = Nominatim(user_agent=\"streamlit-location-app\")\n",
    "    \n",
    "    result = {\n",
    "        \"found_location\": None,\n",
    "        \"found_latitude\": None,\n",
    "        \"found_longitude\": None,\n",
    "        \"offset_applied\": False,\n",
    "        \"offset_bearing_degrees\": None,\n",
    "        \"offset_miles\": None,\n",
    "        \"offset_latitude\": None,\n",
    "        \"offset_longitude\": None,\n",
    "        \"error\": None\n",
    "    }\n",
    "\n",
    "    # Try to determine location\n",
    "    loc = geolocator.geocode(location_text)\n",
    "    if loc:\n",
    "        result.update({\n",
    "            \"found_location\": loc.address,\n",
    "            \"found_latitude\": loc.latitude,\n",
    "            \"found_longitude\": loc.longitude\n",
    "        })\n",
    "    else:\n",
    "        result[\"error\"] = f\"Could not geocode: {location_text}\"\n",
    "        return result\n",
    "    \n",
    "\n",
    "    # Process offset if requested\n",
    "    if offset_miles and offset_direction:\n",
    "        direction_map = {\n",
    "            \"north\": 0.0, \"east\": 90.0,\n",
    "            \"south\": 180.0, \"west\": 270.0,\n",
    "            # Add more directions as needed\n",
    "        }\n",
    "        bearing = direction_map.get(offset_direction.lower())\n",
    "        if bearing is None:\n",
    "            result[\"error\"] = f\"Invalid direction: {offset_direction}\"\n",
    "            return result\n",
    "\n",
    "        # Calculate new point\n",
    "        origin = (result[\"found_latitude\"], result[\"found_longitude\"])\n",
    "        dist_obj = distance(miles=offset_miles)\n",
    "        new_point = dist_obj.destination(point=origin, bearing=bearing)\n",
    "        \n",
    "        result.update({\n",
    "            \"offset_applied\": True,\n",
    "            \"offset_bearing_degrees\": bearing,\n",
    "            \"offset_miles\": offset_miles,\n",
    "            \"offset_latitude\": new_point.latitude,\n",
    "            \"offset_longitude\": new_point.longitude\n",
    "        })\n",
    "\n",
    "    return result"
   ]
  },
  {
   "cell_type": "code",
   "execution_count": 4,
   "metadata": {},
   "outputs": [],
   "source": [
    "from langchain_openai import ChatOpenAI\n",
    "\n",
    "# Binding tools to the model\n",
    "tools = [locate_and_offset]\n",
    "llm = ChatOpenAI(model=\"gpt-4o\")\n",
    "llm_with_tools = llm.bind_tools(tools)\n"
   ]
  },
  {
   "cell_type": "code",
   "execution_count": 5,
   "metadata": {},
   "outputs": [],
   "source": [
    "from langgraph.graph import MessagesState\n",
    "from langchain_core.messages import AIMessage, HumanMessage, SystemMessage\n",
    "\n",
    "sys_msg = SystemMessage(content=\"You are a helpful assistant tasked with performing scraping scripts with scrapegraphai\")\n",
    "\n",
    "def assistant(state: MessagesState):\n",
    "   return {\"messages\": [llm_with_tools.invoke([sys_msg] + state[\"messages\"])]}"
   ]
  },
  {
   "cell_type": "code",
   "execution_count": 6,
   "metadata": {},
   "outputs": [
    {
     "data": {
      "image/jpeg": "[encoded data removed]",
      "text/plain": [
       "<IPython.core.display.Image object>"
      ]
     },
     "metadata": {},
     "output_type": "display_data"
    }
   ],
   "source": [
    "from langgraph.graph import START, StateGraph\n",
    "from langgraph.prebuilt import tools_condition\n",
    "from langgraph.prebuilt import ToolNode\n",
    "from IPython.display import Image, display\n",
    "\n",
    "# Graph\n",
    "builder = StateGraph(MessagesState)\n",
    "\n",
    "# Define nodes: these do the work\n",
    "builder.add_node(\"assistant\", assistant)\n",
    "builder.add_node(\"tools\", ToolNode(tools))\n",
    "\n",
    "# Define edges: these determine how the control flow moves\n",
    "builder.add_edge(START, \"assistant\")\n",
    "builder.add_conditional_edges(\n",
    "    \"assistant\",\n",
    "    # If the latest message (result) from assistant is a tool call -> tools_condition routes to tools\n",
    "    # If the latest message (result) from assistant is a not a tool call -> tools_condition routes to END\n",
    "    tools_condition,\n",
    ")\n",
    "builder.add_edge(\"tools\", \"assistant\")\n",
    "react_graph = builder.compile()\n",
    "\n",
    "# Show\n",
    "display(Image(react_graph.get_graph(xray=True).draw_mermaid_png()))"
   ]
  },
  {
   "cell_type": "code",
   "execution_count": 7,
   "metadata": {},
   "outputs": [],
   "source": [
    "messages = [HumanMessage(content=\"Find me the location 5 km north to treviglio\")]\n",
    "\n",
    "messages = react_graph.invoke({\"messages\": messages})"
   ]
  },
  {
   "cell_type": "code",
   "execution_count": 8,
   "metadata": {},
   "outputs": [
    {
     "name": "stdout",
     "output_type": "stream",
     "text": [
      "================================\u001b[1m Human Message \u001b[0m=================================\n",
      "\n",
      "Find me the location 5 km north to treviglio\n",
      "==================================\u001b[1m Ai Message \u001b[0m==================================\n",
      "Tool Calls:\n",
      "  locate_and_offset (call_Zbc2kpg6j7quqU9KoQBdcfcE)\n",
      " Call ID: call_Zbc2kpg6j7quqU9KoQBdcfcE\n",
      "  Args:\n",
      "    location_text: Treviglio\n",
      "    offset_miles: 3.107\n",
      "    offset_direction: north\n",
      "=================================\u001b[1m Tool Message \u001b[0m=================================\n",
      "Name: locate_and_offset\n",
      "\n",
      "{\"found_location\": \"Treviglio, Bergamo, Lombardia, 24047, Italia\", \"found_latitude\": 45.5217245, \"found_longitude\": 9.5931485, \"offset_applied\": true, \"offset_bearing_degrees\": 0.0, \"offset_miles\": 3.107, \"offset_latitude\": 45.56671391204646, \"offset_longitude\": 9.5931485, \"error\": null}\n",
      "==================================\u001b[1m Ai Message \u001b[0m==================================\n",
      "\n",
      "The location 5 km (approximately 3.107 miles) north of Treviglio is at latitude 45.5667139 and longitude 9.5931485.\n"
     ]
    }
   ],
   "source": [
    "for m in messages['messages']:\n",
    "    m.pretty_print()"
   ]
  }
 ],
 "metadata": {
  "kernelspec": {
   "display_name": "envpython",
   "language": "python",
   "name": "python3"
  },
  "language_info": {
   "codemirror_mode": {
    "name": "ipython",
    "version": 3
   },
   "file_extension": ".py",
   "mimetype": "text/x-python",
   "name": "python",
   "nbconvert_exporter": "python",
   "pygments_lexer": "ipython3",
   "version": "3.12.7"
  }
 },
 "nbformat": 4,
 "nbformat_minor": 2
}
